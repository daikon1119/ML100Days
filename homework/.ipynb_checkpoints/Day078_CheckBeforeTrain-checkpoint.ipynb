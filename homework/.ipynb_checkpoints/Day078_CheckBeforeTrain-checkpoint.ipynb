{
 "cells": [
  {
   "cell_type": "markdown",
   "metadata": {},
   "source": [
    "## 範例重點\n",
    "### 學習在模型開始前檢查各個環節\n",
    "1. 是否有 GPU 資源\n",
    "2. 將前處理轉為函式，統一處理訓練、驗證與測試集\n",
    "3. 將超參數變數化，易於重複使用函式、模型等"
   ]
  },
  {
   "cell_type": "code",
   "execution_count": 1,
   "metadata": {},
   "outputs": [
    {
     "name": "stdout",
     "output_type": "stream",
     "text": [
      "/bin/bash: nvidia-smi: command not found\r\n"
     ]
    }
   ],
   "source": [
    "## 確認硬體資源 (如果你是在 Linux, 若是在 Windows, 請參考 https://blog.csdn.net/idwtwt/article/details/78017565)\n",
    "!nvidia-smi"
   ]
  },
  {
   "cell_type": "code",
   "execution_count": 2,
   "metadata": {},
   "outputs": [],
   "source": [
    "import os\n",
    "import keras\n",
    "\n",
    "# 本範例不需使用 GPU, 將 GPU 設定為 \"無\"\n",
    "os.environ[\"CUDA_VISIBLE_DEVICES\"] = \"\""
   ]
  },
  {
   "cell_type": "code",
   "execution_count": 3,
   "metadata": {},
   "outputs": [],
   "source": [
    "# 從 Keras 的內建功能中，取得 train 與 test 資料集\n",
    "train, test = keras.datasets.cifar10.load_data()"
   ]
  },
  {
   "cell_type": "code",
   "execution_count": 4,
   "metadata": {},
   "outputs": [],
   "source": [
    "## 資料前處理\n",
    "def preproc_x(x, flatten=True):\n",
    "    x = x / 255.\n",
    "    if flatten:\n",
    "        x = x.reshape((len(x), -1))\n",
    "    return x\n",
    "\n",
    "def preproc_y(y, num_classes=10):\n",
    "    if y.shape[-1] == 1:\n",
    "        y = keras.utils.to_categorical(y, num_classes)\n",
    "    return y    "
   ]
  },
  {
   "cell_type": "code",
   "execution_count": 5,
   "metadata": {},
   "outputs": [],
   "source": [
    "x_train, y_train = train\n",
    "x_test, y_test = test\n",
    "\n",
    "# 資料前處理 - X 標準化\n",
    "x_train = preproc_x(x_train)\n",
    "x_test = preproc_x(x_test)\n",
    "\n",
    "# 資料前處理 -Y 轉成 onehot\n",
    "y_train = preproc_y(y_train)\n",
    "y_test = preproc_y(y_test)"
   ]
  },
  {
   "cell_type": "code",
   "execution_count": 6,
   "metadata": {},
   "outputs": [],
   "source": [
    "def build_mlp(input_shape, output_units=10, num_neurons=[512, 256, 128]):\n",
    "    input_layer = keras.layers.Input(input_shape)\n",
    "    \n",
    "    for i, n_units in enumerate(num_neurons):\n",
    "        if i == 0:\n",
    "            x = keras.layers.Dense(units=n_units, activation=\"relu\", name=\"hidden_layer\"+str(i+1))(input_layer)\n",
    "        else:\n",
    "            x = keras.layers.Dense(units=n_units, activation=\"relu\", name=\"hidden_layer\"+str(i+1))(x)\n",
    "    \n",
    "    out = keras.layers.Dense(units=output_units, activation=\"softmax\", name=\"output\")(x)\n",
    "    \n",
    "    model = keras.models.Model(inputs=[input_layer], outputs=[out])\n",
    "    return model"
   ]
  },
  {
   "cell_type": "code",
   "execution_count": 7,
   "metadata": {},
   "outputs": [
    {
     "name": "stdout",
     "output_type": "stream",
     "text": [
      "Model: \"functional_1\"\n",
      "_________________________________________________________________\n",
      "Layer (type)                 Output Shape              Param #   \n",
      "=================================================================\n",
      "input_1 (InputLayer)         [(None, 3072)]            0         \n",
      "_________________________________________________________________\n",
      "hidden_layer1 (Dense)        (None, 512)               1573376   \n",
      "_________________________________________________________________\n",
      "hidden_layer2 (Dense)        (None, 256)               131328    \n",
      "_________________________________________________________________\n",
      "hidden_layer3 (Dense)        (None, 128)               32896     \n",
      "_________________________________________________________________\n",
      "output (Dense)               (None, 10)                1290      \n",
      "=================================================================\n",
      "Total params: 1,738,890\n",
      "Trainable params: 1,738,890\n",
      "Non-trainable params: 0\n",
      "_________________________________________________________________\n"
     ]
    }
   ],
   "source": [
    "model = build_mlp(input_shape=x_train.shape[1:])\n",
    "model.summary()"
   ]
  },
  {
   "cell_type": "code",
   "execution_count": 8,
   "metadata": {},
   "outputs": [],
   "source": [
    "## 超參數設定\n",
    "LEARNING_RATE = 0.001\n",
    "EPOCHS = 100\n",
    "BATCH_SIZE = 256"
   ]
  },
  {
   "cell_type": "code",
   "execution_count": 9,
   "metadata": {},
   "outputs": [],
   "source": [
    "optimizer = keras.optimizers.Adam(lr=LEARNING_RATE)\n",
    "model.compile(loss=\"categorical_crossentropy\", metrics=[\"accuracy\"], optimizer=optimizer)"
   ]
  },
  {
   "cell_type": "code",
   "execution_count": null,
   "metadata": {},
   "outputs": [
    {
     "name": "stdout",
     "output_type": "stream",
     "text": [
      "Epoch 1/100\n",
      "196/196 [==============================] - 2s 12ms/step - loss: 1.9480 - accuracy: 0.2996 - val_loss: 1.8630 - val_accuracy: 0.3263\n",
      "Epoch 2/100\n",
      "196/196 [==============================] - 2s 10ms/step - loss: 1.7193 - accuracy: 0.3860 - val_loss: 1.6612 - val_accuracy: 0.4124\n",
      "Epoch 3/100\n",
      "196/196 [==============================] - 2s 11ms/step - loss: 1.6147 - accuracy: 0.4245 - val_loss: 1.6152 - val_accuracy: 0.4187\n",
      "Epoch 4/100\n",
      "196/196 [==============================] - 2s 11ms/step - loss: 1.5670 - accuracy: 0.4409 - val_loss: 1.5473 - val_accuracy: 0.4519\n",
      "Epoch 5/100\n",
      "196/196 [==============================] - 2s 11ms/step - loss: 1.5024 - accuracy: 0.4657 - val_loss: 1.5110 - val_accuracy: 0.4621\n",
      "Epoch 6/100\n",
      "196/196 [==============================] - 2s 12ms/step - loss: 1.4621 - accuracy: 0.4818 - val_loss: 1.4966 - val_accuracy: 0.4637\n",
      "Epoch 7/100\n",
      "196/196 [==============================] - 2s 11ms/step - loss: 1.4353 - accuracy: 0.4860 - val_loss: 1.4619 - val_accuracy: 0.4710\n",
      "Epoch 8/100\n",
      "196/196 [==============================] - 2s 11ms/step - loss: 1.4091 - accuracy: 0.4980 - val_loss: 1.4392 - val_accuracy: 0.4842\n",
      "Epoch 9/100\n",
      "196/196 [==============================] - 2s 10ms/step - loss: 1.3884 - accuracy: 0.5046 - val_loss: 1.4332 - val_accuracy: 0.4875\n",
      "Epoch 10/100\n",
      "196/196 [==============================] - 2s 11ms/step - loss: 1.3527 - accuracy: 0.5179 - val_loss: 1.4160 - val_accuracy: 0.4989\n",
      "Epoch 11/100\n",
      "196/196 [==============================] - 2s 11ms/step - loss: 1.3294 - accuracy: 0.5263 - val_loss: 1.4345 - val_accuracy: 0.4878\n",
      "Epoch 12/100\n",
      "196/196 [==============================] - 2s 11ms/step - loss: 1.3018 - accuracy: 0.5357 - val_loss: 1.4117 - val_accuracy: 0.5020\n",
      "Epoch 13/100\n",
      "196/196 [==============================] - 2s 11ms/step - loss: 1.2922 - accuracy: 0.5396 - val_loss: 1.4003 - val_accuracy: 0.5028\n",
      "Epoch 14/100\n",
      "196/196 [==============================] - 2s 11ms/step - loss: 1.2598 - accuracy: 0.5513 - val_loss: 1.4146 - val_accuracy: 0.5044\n",
      "Epoch 15/100\n",
      "196/196 [==============================] - 2s 12ms/step - loss: 1.2334 - accuracy: 0.5599 - val_loss: 1.3661 - val_accuracy: 0.5206\n",
      "Epoch 16/100\n",
      "196/196 [==============================] - 2s 11ms/step - loss: 1.2156 - accuracy: 0.5655 - val_loss: 1.3789 - val_accuracy: 0.5156\n",
      "Epoch 17/100\n",
      "196/196 [==============================] - 2s 11ms/step - loss: 1.1959 - accuracy: 0.5718 - val_loss: 1.3959 - val_accuracy: 0.5097\n",
      "Epoch 18/100\n",
      "196/196 [==============================] - 2s 11ms/step - loss: 1.1771 - accuracy: 0.5806 - val_loss: 1.3913 - val_accuracy: 0.5172\n",
      "Epoch 19/100\n",
      "196/196 [==============================] - 2s 11ms/step - loss: 1.1497 - accuracy: 0.5904 - val_loss: 1.3794 - val_accuracy: 0.5106\n",
      "Epoch 20/100\n",
      "196/196 [==============================] - 2s 12ms/step - loss: 1.1313 - accuracy: 0.5968 - val_loss: 1.3737 - val_accuracy: 0.5176\n",
      "Epoch 21/100\n",
      "196/196 [==============================] - 3s 13ms/step - loss: 1.1159 - accuracy: 0.6018 - val_loss: 1.3861 - val_accuracy: 0.5166\n",
      "Epoch 22/100\n",
      "196/196 [==============================] - 2s 11ms/step - loss: 1.1019 - accuracy: 0.6065 - val_loss: 1.3834 - val_accuracy: 0.5148\n",
      "Epoch 23/100\n",
      "196/196 [==============================] - 2s 12ms/step - loss: 1.0810 - accuracy: 0.6159 - val_loss: 1.3913 - val_accuracy: 0.5203\n",
      "Epoch 24/100\n",
      "196/196 [==============================] - 2s 11ms/step - loss: 1.0710 - accuracy: 0.6189 - val_loss: 1.3782 - val_accuracy: 0.5261\n",
      "Epoch 25/100\n",
      "196/196 [==============================] - 2s 11ms/step - loss: 1.0457 - accuracy: 0.6262 - val_loss: 1.4190 - val_accuracy: 0.5197\n",
      "Epoch 26/100\n",
      "196/196 [==============================] - 2s 12ms/step - loss: 1.0213 - accuracy: 0.6369 - val_loss: 1.3910 - val_accuracy: 0.5222\n",
      "Epoch 27/100\n",
      "196/196 [==============================] - 2s 12ms/step - loss: 1.0015 - accuracy: 0.6436 - val_loss: 1.3791 - val_accuracy: 0.5306\n",
      "Epoch 28/100\n",
      "196/196 [==============================] - 2s 11ms/step - loss: 0.9929 - accuracy: 0.6456 - val_loss: 1.4111 - val_accuracy: 0.5295\n",
      "Epoch 29/100\n",
      "196/196 [==============================] - 2s 11ms/step - loss: 0.9714 - accuracy: 0.6532 - val_loss: 1.4086 - val_accuracy: 0.5269\n",
      "Epoch 30/100\n",
      "196/196 [==============================] - 2s 11ms/step - loss: 0.9508 - accuracy: 0.6603 - val_loss: 1.4617 - val_accuracy: 0.5185\n",
      "Epoch 31/100\n",
      "196/196 [==============================] - 2s 12ms/step - loss: 0.9392 - accuracy: 0.6644 - val_loss: 1.4112 - val_accuracy: 0.5252\n",
      "Epoch 32/100\n",
      "196/196 [==============================] - 2s 11ms/step - loss: 0.9174 - accuracy: 0.6725 - val_loss: 1.4862 - val_accuracy: 0.5121\n",
      "Epoch 33/100\n",
      "196/196 [==============================] - 2s 11ms/step - loss: 0.9103 - accuracy: 0.6732 - val_loss: 1.4412 - val_accuracy: 0.5282\n",
      "Epoch 34/100\n",
      "196/196 [==============================] - 2s 11ms/step - loss: 0.8904 - accuracy: 0.6829 - val_loss: 1.4568 - val_accuracy: 0.5247\n",
      "Epoch 35/100\n",
      "196/196 [==============================] - 2s 11ms/step - loss: 0.8743 - accuracy: 0.6878 - val_loss: 1.5032 - val_accuracy: 0.5138\n",
      "Epoch 36/100\n",
      "196/196 [==============================] - 2s 12ms/step - loss: 0.8531 - accuracy: 0.6952 - val_loss: 1.4825 - val_accuracy: 0.5297\n",
      "Epoch 37/100\n",
      "196/196 [==============================] - 2s 12ms/step - loss: 0.8280 - accuracy: 0.7056 - val_loss: 1.5064 - val_accuracy: 0.5281\n",
      "Epoch 38/100\n",
      "196/196 [==============================] - 2s 11ms/step - loss: 0.8172 - accuracy: 0.7086 - val_loss: 1.5182 - val_accuracy: 0.5298\n",
      "Epoch 39/100\n",
      "196/196 [==============================] - 2s 11ms/step - loss: 0.8068 - accuracy: 0.7120 - val_loss: 1.5660 - val_accuracy: 0.5172\n",
      "Epoch 40/100\n",
      " 77/196 [==========>...................] - ETA: 1s - loss: 0.7547 - accuracy: 0.7309"
     ]
    }
   ],
   "source": [
    "model.fit(x_train, y_train, \n",
    "          epochs=EPOCHS, \n",
    "          batch_size=BATCH_SIZE, \n",
    "          validation_data=(x_test, y_test), \n",
    "          shuffle=True)"
   ]
  },
  {
   "cell_type": "code",
   "execution_count": null,
   "metadata": {},
   "outputs": [],
   "source": [
    "# 訓練模型並檢視驗證集的結果\n",
    "import matplotlib.pyplot as plt\n",
    "\n",
    "train_loss = model.history.history[\"loss\"]\n",
    "valid_loss = model.history.history[\"val_loss\"]\n",
    "\n",
    "train_acc = model.history.history[\"acc\"]\n",
    "valid_acc = model.history.history[\"val_acc\"]\n",
    "\n",
    "plt.plot(range(len(train_loss)), train_loss, label=\"train loss\")\n",
    "plt.plot(range(len(valid_loss)), valid_loss, label=\"valid loss\")\n",
    "plt.legend()\n",
    "plt.title(\"Loss\")\n",
    "plt.show()\n",
    "\n",
    "plt.plot(range(len(train_acc)), train_acc, label=\"train accuracy\")\n",
    "plt.plot(range(len(valid_acc)), valid_acc, label=\"valid accuracy\")\n",
    "plt.legend()\n",
    "plt.title(\"Accuracy\")\n",
    "plt.show()"
   ]
  },
  {
   "cell_type": "markdown",
   "metadata": {},
   "source": [
    "## Work\n",
    "1. 請嘗試將 preproc_x 替換成以每筆資料的 min/max 進行標準化至 -1 ~ 1 間，再進行訓練\n",
    "2. 請嘗試將 mlp 疊更深 (e.g 5~10 層)，進行訓練後觀察 learning curve 的走勢\n",
    "3. (optional) 請改用 GPU 進行訓練 (如果你有 GPU 的話)，比較使用 CPU 與 GPU 的訓練速度"
   ]
  },
  {
   "cell_type": "code",
   "execution_count": null,
   "metadata": {},
   "outputs": [],
   "source": []
  }
 ],
 "metadata": {
  "kernelspec": {
   "display_name": "Python 3",
   "language": "python",
   "name": "python3"
  },
  "language_info": {
   "codemirror_mode": {
    "name": "ipython",
    "version": 3
   },
   "file_extension": ".py",
   "mimetype": "text/x-python",
   "name": "python",
   "nbconvert_exporter": "python",
   "pygments_lexer": "ipython3",
   "version": "3.7.7"
  }
 },
 "nbformat": 4,
 "nbformat_minor": 2
}
