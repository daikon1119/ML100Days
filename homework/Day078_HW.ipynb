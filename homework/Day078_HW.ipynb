{
 "cells": [
  {
   "cell_type": "markdown",
   "metadata": {},
   "source": [
    "## Work\n",
    "1. 請嘗試將 preproc_x 替換成以每筆資料的 min/max 進行標準化至 -1 ~ 1 間，再進行訓練\n",
    "2. 請嘗試將 mlp 疊更深 (e.g 5~10 層)，進行訓練後觀察 learning curve 的走勢\n",
    "3. (optional) 請改用 GPU 進行訓練 (如果你有 GPU 的話)，比較使用 CPU 與 GPU 的訓練速度"
   ]
  },
  {
   "cell_type": "code",
   "execution_count": 3,
   "metadata": {},
   "outputs": [
    {
     "data": {
      "text/plain": [
       "'\\nYour code here (optional)\\n確認硬體資源\\n'"
      ]
     },
     "execution_count": 3,
     "metadata": {},
     "output_type": "execute_result"
    }
   ],
   "source": [
    "## \n",
    "\"\"\"\n",
    "Your code here (optional)\n",
    "確認硬體資源\n",
    "\"\"\"\n"
   ]
  },
  {
   "cell_type": "code",
   "execution_count": 4,
   "metadata": {},
   "outputs": [],
   "source": [
    "import os\n",
    "import keras\n",
    "\n",
    "# 請嘗試設定 GPU：os.environ\n"
   ]
  },
  {
   "cell_type": "code",
   "execution_count": 5,
   "metadata": {},
   "outputs": [],
   "source": [
    "train, test = keras.datasets.cifar10.load_data()"
   ]
  },
  {
   "cell_type": "code",
   "execution_count": 6,
   "metadata": {},
   "outputs": [],
   "source": [
    "## 資料前處理\n",
    "\"\"\"\n",
    "Your code here\n",
    "\"\"\"\n",
    "def preproc_x(x, flatten=True):\n",
    "    #x = (( (x - min(x)) / ( max(x) - min(x) ) ) - 0.5) * 2\n",
    "    x = 2*(((x - x.min()) / (x.max() - x.min()))-0.5)\n",
    "    if flatten:\n",
    "        x = x.reshape((len(x), -1))\n",
    "    return x\n",
    "\n",
    "def preproc_y(y, num_classes=10):\n",
    "    if y.shape[-1] == 1:\n",
    "        y = keras.utils.to_categorical(y, num_classes)\n",
    "    return y "
   ]
  },
  {
   "cell_type": "code",
   "execution_count": 7,
   "metadata": {},
   "outputs": [],
   "source": [
    "x_train, y_train = train\n",
    "x_test, y_test = test\n",
    "\n",
    "# Preproc the inputs\n",
    "x_train = preproc_x(x_train)\n",
    "x_test = preproc_x(x_test)\n",
    "\n",
    "# Preprc the outputs\n",
    "y_train = preproc_y(y_train)\n",
    "y_test = preproc_y(y_test)"
   ]
  },
  {
   "cell_type": "code",
   "execution_count": 9,
   "metadata": {},
   "outputs": [
    {
     "name": "stdout",
     "output_type": "stream",
     "text": [
      "Model: \"functional_1\"\n",
      "_________________________________________________________________\n",
      "Layer (type)                 Output Shape              Param #   \n",
      "=================================================================\n",
      "input_1 (InputLayer)         [(None, 3072)]            0         \n",
      "_________________________________________________________________\n",
      "hidden_layer1 (Dense)        (None, 1024)              3146752   \n",
      "_________________________________________________________________\n",
      "hidden_layer2 (Dense)        (None, 512)               524800    \n",
      "_________________________________________________________________\n",
      "hidden_layer3 (Dense)        (None, 256)               131328    \n",
      "_________________________________________________________________\n",
      "hidden_layer4 (Dense)        (None, 128)               32896     \n",
      "_________________________________________________________________\n",
      "hidden_layer5 (Dense)        (None, 64)                8256      \n",
      "_________________________________________________________________\n",
      "hidden_layer6 (Dense)        (None, 32)                2080      \n",
      "_________________________________________________________________\n",
      "output (Dense)               (None, 10)                330       \n",
      "=================================================================\n",
      "Total params: 3,846,442\n",
      "Trainable params: 3,846,442\n",
      "Non-trainable params: 0\n",
      "_________________________________________________________________\n"
     ]
    }
   ],
   "source": [
    "\"\"\"Code Here\n",
    "建立你的神經網路\n",
    "\"\"\"\n",
    "def build_mlp(input_shape, output_units=10, num_neurons=[1024, 512, 256, 128, 64, 32]):\n",
    "    input_layer = keras.layers.Input(input_shape)\n",
    "    \n",
    "    for i, n_units in enumerate(num_neurons):\n",
    "        if i == 0:\n",
    "            x = keras.layers.Dense(units=n_units, activation=\"relu\", name=\"hidden_layer\"+str(i+1))(input_layer)\n",
    "        else:\n",
    "            x = keras.layers.Dense(units=n_units, activation=\"relu\", name=\"hidden_layer\"+str(i+1))(x)\n",
    "    \n",
    "    out = keras.layers.Dense(units=output_units, activation=\"softmax\", name=\"output\")(x)\n",
    "    \n",
    "    model = keras.models.Model(inputs=[input_layer], outputs=[out])\n",
    "    return model\n",
    "\n",
    "model = build_mlp(input_shape=x_train.shape[1:])\n",
    "model.summary()"
   ]
  },
  {
   "cell_type": "code",
   "execution_count": 10,
   "metadata": {},
   "outputs": [],
   "source": [
    "## 超參數設定\n",
    "LEARNING_RATE = 0.001\n",
    "EPOCHS = 100\n",
    "BATCH_SIZE = 256"
   ]
  },
  {
   "cell_type": "code",
   "execution_count": 11,
   "metadata": {},
   "outputs": [],
   "source": [
    "optimizer = keras.optimizers.Adam(lr=LEARNING_RATE)\n",
    "model.compile(loss=\"categorical_crossentropy\", metrics=[\"accuracy\"], optimizer=optimizer)"
   ]
  },
  {
   "cell_type": "code",
   "execution_count": 12,
   "metadata": {},
   "outputs": [
    {
     "name": "stdout",
     "output_type": "stream",
     "text": [
      "Epoch 1/100\n",
      "196/196 [==============================] - 5s 28ms/step - loss: 1.7268 - accuracy: 0.3868 - val_loss: 1.5662 - val_accuracy: 0.4416\n",
      "Epoch 2/100\n",
      "196/196 [==============================] - 5s 27ms/step - loss: 1.4851 - accuracy: 0.4760 - val_loss: 1.4574 - val_accuracy: 0.4908\n",
      "Epoch 3/100\n",
      "196/196 [==============================] - 6s 30ms/step - loss: 1.3570 - accuracy: 0.5216 - val_loss: 1.4376 - val_accuracy: 0.4994\n",
      "Epoch 4/100\n",
      "196/196 [==============================] - 5s 26ms/step - loss: 1.2583 - accuracy: 0.5552 - val_loss: 1.3545 - val_accuracy: 0.5256\n",
      "Epoch 5/100\n",
      "196/196 [==============================] - 5s 27ms/step - loss: 1.1619 - accuracy: 0.5947 - val_loss: 1.3616 - val_accuracy: 0.5215\n",
      "Epoch 6/100\n",
      "196/196 [==============================] - 5s 27ms/step - loss: 1.0817 - accuracy: 0.6172 - val_loss: 1.3356 - val_accuracy: 0.5427\n",
      "Epoch 7/100\n",
      "196/196 [==============================] - 5s 27ms/step - loss: 0.9947 - accuracy: 0.6469 - val_loss: 1.3535 - val_accuracy: 0.5387\n",
      "Epoch 8/100\n",
      "196/196 [==============================] - 5s 26ms/step - loss: 0.9160 - accuracy: 0.6748 - val_loss: 1.3817 - val_accuracy: 0.5509\n",
      "Epoch 9/100\n",
      "196/196 [==============================] - 5s 27ms/step - loss: 0.8340 - accuracy: 0.7055 - val_loss: 1.4444 - val_accuracy: 0.5389\n",
      "Epoch 10/100\n",
      "196/196 [==============================] - 5s 27ms/step - loss: 0.7641 - accuracy: 0.7297 - val_loss: 1.4717 - val_accuracy: 0.5512\n",
      "Epoch 11/100\n",
      "196/196 [==============================] - 5s 27ms/step - loss: 0.6786 - accuracy: 0.7586 - val_loss: 1.6086 - val_accuracy: 0.5414\n",
      "Epoch 12/100\n",
      "196/196 [==============================] - 5s 27ms/step - loss: 0.6131 - accuracy: 0.7822 - val_loss: 1.6701 - val_accuracy: 0.5353\n",
      "Epoch 13/100\n",
      "196/196 [==============================] - 5s 28ms/step - loss: 0.5519 - accuracy: 0.8049 - val_loss: 1.7544 - val_accuracy: 0.5400\n",
      "Epoch 14/100\n",
      "196/196 [==============================] - 5s 27ms/step - loss: 0.4962 - accuracy: 0.8246 - val_loss: 1.7450 - val_accuracy: 0.5460\n",
      "Epoch 15/100\n",
      "196/196 [==============================] - 5s 27ms/step - loss: 0.4459 - accuracy: 0.8419 - val_loss: 1.9383 - val_accuracy: 0.5315\n",
      "Epoch 16/100\n",
      "196/196 [==============================] - 5s 27ms/step - loss: 0.4122 - accuracy: 0.8550 - val_loss: 1.9880 - val_accuracy: 0.5390\n",
      "Epoch 17/100\n",
      "196/196 [==============================] - 5s 27ms/step - loss: 0.3582 - accuracy: 0.8730 - val_loss: 2.2229 - val_accuracy: 0.5419\n",
      "Epoch 18/100\n",
      "196/196 [==============================] - 5s 27ms/step - loss: 0.3397 - accuracy: 0.8787 - val_loss: 2.2036 - val_accuracy: 0.5414\n",
      "Epoch 19/100\n",
      "196/196 [==============================] - 5s 27ms/step - loss: 0.3157 - accuracy: 0.8885 - val_loss: 2.3019 - val_accuracy: 0.5385\n",
      "Epoch 20/100\n",
      "196/196 [==============================] - 5s 27ms/step - loss: 0.2918 - accuracy: 0.8976 - val_loss: 2.3662 - val_accuracy: 0.5444\n",
      "Epoch 21/100\n",
      "196/196 [==============================] - 5s 27ms/step - loss: 0.2691 - accuracy: 0.9066 - val_loss: 2.5369 - val_accuracy: 0.5400\n",
      "Epoch 22/100\n",
      "196/196 [==============================] - 5s 27ms/step - loss: 0.2353 - accuracy: 0.9173 - val_loss: 2.6260 - val_accuracy: 0.5343\n",
      "Epoch 23/100\n",
      "196/196 [==============================] - 5s 27ms/step - loss: 0.2279 - accuracy: 0.9212 - val_loss: 2.6670 - val_accuracy: 0.5424\n",
      "Epoch 24/100\n",
      "196/196 [==============================] - 5s 27ms/step - loss: 0.2098 - accuracy: 0.9272 - val_loss: 2.7535 - val_accuracy: 0.5442\n",
      "Epoch 25/100\n",
      "196/196 [==============================] - 5s 27ms/step - loss: 0.2072 - accuracy: 0.9301 - val_loss: 2.7004 - val_accuracy: 0.5309\n",
      "Epoch 26/100\n",
      "196/196 [==============================] - 5s 27ms/step - loss: 0.1938 - accuracy: 0.9336 - val_loss: 2.7951 - val_accuracy: 0.5404\n",
      "Epoch 27/100\n",
      "196/196 [==============================] - 5s 27ms/step - loss: 0.2055 - accuracy: 0.9304 - val_loss: 2.8244 - val_accuracy: 0.5402\n",
      "Epoch 28/100\n",
      "196/196 [==============================] - 5s 27ms/step - loss: 0.1640 - accuracy: 0.9439 - val_loss: 2.9669 - val_accuracy: 0.5452\n",
      "Epoch 29/100\n",
      "196/196 [==============================] - 5s 28ms/step - loss: 0.1561 - accuracy: 0.9460 - val_loss: 3.0047 - val_accuracy: 0.5372\n",
      "Epoch 30/100\n",
      "196/196 [==============================] - 5s 27ms/step - loss: 0.1755 - accuracy: 0.9402 - val_loss: 3.0289 - val_accuracy: 0.5442\n",
      "Epoch 31/100\n",
      "196/196 [==============================] - 5s 27ms/step - loss: 0.1541 - accuracy: 0.9477 - val_loss: 3.1428 - val_accuracy: 0.5488\n",
      "Epoch 32/100\n",
      "196/196 [==============================] - 5s 27ms/step - loss: 0.1576 - accuracy: 0.9463 - val_loss: 3.0914 - val_accuracy: 0.5409\n",
      "Epoch 33/100\n",
      "196/196 [==============================] - 5s 27ms/step - loss: 0.1337 - accuracy: 0.9544 - val_loss: 3.1234 - val_accuracy: 0.5496\n",
      "Epoch 34/100\n",
      "196/196 [==============================] - 5s 27ms/step - loss: 0.1188 - accuracy: 0.9607 - val_loss: 3.2061 - val_accuracy: 0.5463\n",
      "Epoch 35/100\n",
      "196/196 [==============================] - 5s 26ms/step - loss: 0.1209 - accuracy: 0.9591 - val_loss: 3.4492 - val_accuracy: 0.5327\n",
      "Epoch 36/100\n",
      "196/196 [==============================] - 5s 27ms/step - loss: 0.1376 - accuracy: 0.9538 - val_loss: 3.4802 - val_accuracy: 0.5513\n",
      "Epoch 37/100\n",
      "196/196 [==============================] - 5s 26ms/step - loss: 0.1437 - accuracy: 0.9521 - val_loss: 3.2924 - val_accuracy: 0.5431\n",
      "Epoch 38/100\n",
      "196/196 [==============================] - 5s 27ms/step - loss: 0.1350 - accuracy: 0.9553 - val_loss: 3.2211 - val_accuracy: 0.5440\n",
      "Epoch 39/100\n",
      "196/196 [==============================] - 5s 26ms/step - loss: 0.1162 - accuracy: 0.9621 - val_loss: 3.4065 - val_accuracy: 0.5380\n",
      "Epoch 40/100\n",
      "196/196 [==============================] - 5s 27ms/step - loss: 0.1195 - accuracy: 0.9601 - val_loss: 3.4048 - val_accuracy: 0.5430\n",
      "Epoch 41/100\n",
      "196/196 [==============================] - 5s 27ms/step - loss: 0.1094 - accuracy: 0.9639 - val_loss: 3.2916 - val_accuracy: 0.5479\n",
      "Epoch 42/100\n",
      "196/196 [==============================] - 5s 27ms/step - loss: 0.1118 - accuracy: 0.9637 - val_loss: 3.4490 - val_accuracy: 0.5384\n",
      "Epoch 43/100\n",
      "196/196 [==============================] - 5s 27ms/step - loss: 0.1192 - accuracy: 0.9617 - val_loss: 3.3131 - val_accuracy: 0.5486\n",
      "Epoch 44/100\n",
      "196/196 [==============================] - 5s 27ms/step - loss: 0.1084 - accuracy: 0.9647 - val_loss: 3.5271 - val_accuracy: 0.5401\n",
      "Epoch 45/100\n",
      "196/196 [==============================] - 5s 27ms/step - loss: 0.0976 - accuracy: 0.9686 - val_loss: 3.5961 - val_accuracy: 0.5427\n",
      "Epoch 46/100\n",
      "196/196 [==============================] - 5s 27ms/step - loss: 0.1026 - accuracy: 0.9668 - val_loss: 3.4658 - val_accuracy: 0.5415\n",
      "Epoch 47/100\n",
      "196/196 [==============================] - 5s 26ms/step - loss: 0.1082 - accuracy: 0.9648 - val_loss: 3.3744 - val_accuracy: 0.5418\n",
      "Epoch 48/100\n",
      "196/196 [==============================] - 5s 27ms/step - loss: 0.0853 - accuracy: 0.9726 - val_loss: 3.7133 - val_accuracy: 0.5407\n",
      "Epoch 49/100\n",
      "196/196 [==============================] - 5s 27ms/step - loss: 0.0982 - accuracy: 0.9688 - val_loss: 3.5870 - val_accuracy: 0.5414\n",
      "Epoch 50/100\n",
      "196/196 [==============================] - 5s 27ms/step - loss: 0.0832 - accuracy: 0.9732 - val_loss: 3.6336 - val_accuracy: 0.5417\n",
      "Epoch 51/100\n",
      "196/196 [==============================] - 5s 27ms/step - loss: 0.0881 - accuracy: 0.9709 - val_loss: 3.6229 - val_accuracy: 0.5443\n",
      "Epoch 52/100\n",
      "196/196 [==============================] - 5s 27ms/step - loss: 0.0944 - accuracy: 0.9695 - val_loss: 3.5028 - val_accuracy: 0.5440\n",
      "Epoch 53/100\n",
      "196/196 [==============================] - 5s 27ms/step - loss: 0.0856 - accuracy: 0.9731 - val_loss: 3.5667 - val_accuracy: 0.5398\n",
      "Epoch 54/100\n",
      "196/196 [==============================] - 5s 27ms/step - loss: 0.0890 - accuracy: 0.9715 - val_loss: 3.5028 - val_accuracy: 0.5457\n",
      "Epoch 55/100\n",
      "196/196 [==============================] - 5s 27ms/step - loss: 0.0846 - accuracy: 0.9734 - val_loss: 3.4870 - val_accuracy: 0.5403\n",
      "Epoch 56/100\n",
      "196/196 [==============================] - 5s 27ms/step - loss: 0.0978 - accuracy: 0.9684 - val_loss: 3.5341 - val_accuracy: 0.5464\n",
      "Epoch 57/100\n"
     ]
    },
    {
     "name": "stdout",
     "output_type": "stream",
     "text": [
      "196/196 [==============================] - 5s 26ms/step - loss: 0.0786 - accuracy: 0.9742 - val_loss: 3.7423 - val_accuracy: 0.5479\n",
      "Epoch 58/100\n",
      "196/196 [==============================] - 5s 26ms/step - loss: 0.0852 - accuracy: 0.9719 - val_loss: 3.4041 - val_accuracy: 0.5456\n",
      "Epoch 59/100\n",
      "196/196 [==============================] - 5s 26ms/step - loss: 0.0818 - accuracy: 0.9739 - val_loss: 3.7158 - val_accuracy: 0.5523\n",
      "Epoch 60/100\n",
      "196/196 [==============================] - 5s 26ms/step - loss: 0.0736 - accuracy: 0.9766 - val_loss: 3.6981 - val_accuracy: 0.5481\n",
      "Epoch 61/100\n",
      "196/196 [==============================] - 5s 26ms/step - loss: 0.0813 - accuracy: 0.9745 - val_loss: 3.8342 - val_accuracy: 0.5421\n",
      "Epoch 62/100\n",
      "196/196 [==============================] - 5s 26ms/step - loss: 0.0824 - accuracy: 0.9739 - val_loss: 3.7519 - val_accuracy: 0.5475\n",
      "Epoch 63/100\n",
      "196/196 [==============================] - 5s 26ms/step - loss: 0.0712 - accuracy: 0.9769 - val_loss: 3.5557 - val_accuracy: 0.5501\n",
      "Epoch 64/100\n",
      "196/196 [==============================] - 5s 26ms/step - loss: 0.0640 - accuracy: 0.9794 - val_loss: 3.8307 - val_accuracy: 0.5411\n",
      "Epoch 65/100\n",
      "196/196 [==============================] - 5s 27ms/step - loss: 0.0880 - accuracy: 0.9723 - val_loss: 3.4610 - val_accuracy: 0.5468\n",
      "Epoch 66/100\n",
      "196/196 [==============================] - 5s 26ms/step - loss: 0.0639 - accuracy: 0.9798 - val_loss: 3.6558 - val_accuracy: 0.5405\n",
      "Epoch 67/100\n",
      "196/196 [==============================] - 5s 26ms/step - loss: 0.0736 - accuracy: 0.9777 - val_loss: 3.5946 - val_accuracy: 0.5460\n",
      "Epoch 68/100\n",
      "196/196 [==============================] - 5s 26ms/step - loss: 0.0616 - accuracy: 0.9809 - val_loss: 3.7698 - val_accuracy: 0.5439\n",
      "Epoch 69/100\n",
      "196/196 [==============================] - 5s 26ms/step - loss: 0.0816 - accuracy: 0.9743 - val_loss: 3.6392 - val_accuracy: 0.5409\n",
      "Epoch 70/100\n",
      "196/196 [==============================] - 5s 26ms/step - loss: 0.0703 - accuracy: 0.9776 - val_loss: 3.6853 - val_accuracy: 0.5479\n",
      "Epoch 71/100\n",
      "196/196 [==============================] - 5s 27ms/step - loss: 0.0808 - accuracy: 0.9754 - val_loss: 3.4054 - val_accuracy: 0.5517\n",
      "Epoch 72/100\n",
      "196/196 [==============================] - 5s 27ms/step - loss: 0.0605 - accuracy: 0.9814 - val_loss: 3.6724 - val_accuracy: 0.5415\n",
      "Epoch 73/100\n",
      "196/196 [==============================] - 5s 26ms/step - loss: 0.0574 - accuracy: 0.9817 - val_loss: 3.8096 - val_accuracy: 0.5448\n",
      "Epoch 74/100\n",
      "196/196 [==============================] - 5s 26ms/step - loss: 0.0627 - accuracy: 0.9798 - val_loss: 3.7296 - val_accuracy: 0.5427\n",
      "Epoch 75/100\n",
      "196/196 [==============================] - 5s 26ms/step - loss: 0.0685 - accuracy: 0.9783 - val_loss: 3.6577 - val_accuracy: 0.5469\n",
      "Epoch 76/100\n",
      "196/196 [==============================] - 5s 27ms/step - loss: 0.0642 - accuracy: 0.9797 - val_loss: 3.8233 - val_accuracy: 0.5509\n",
      "Epoch 77/100\n",
      "196/196 [==============================] - 5s 27ms/step - loss: 0.0621 - accuracy: 0.9805 - val_loss: 3.8691 - val_accuracy: 0.5498\n",
      "Epoch 78/100\n",
      "196/196 [==============================] - 6s 30ms/step - loss: 0.0714 - accuracy: 0.9776 - val_loss: 3.6695 - val_accuracy: 0.5389\n",
      "Epoch 79/100\n",
      "196/196 [==============================] - 6s 30ms/step - loss: 0.0664 - accuracy: 0.9791 - val_loss: 3.7380 - val_accuracy: 0.5510\n",
      "Epoch 80/100\n",
      "196/196 [==============================] - 5s 27ms/step - loss: 0.0598 - accuracy: 0.9816 - val_loss: 3.8609 - val_accuracy: 0.5471\n",
      "Epoch 81/100\n",
      "196/196 [==============================] - 6s 31ms/step - loss: 0.0585 - accuracy: 0.9821 - val_loss: 3.8888 - val_accuracy: 0.5510\n",
      "Epoch 82/100\n",
      "196/196 [==============================] - 8s 42ms/step - loss: 0.0680 - accuracy: 0.9787 - val_loss: 3.5973 - val_accuracy: 0.5476\n",
      "Epoch 83/100\n",
      "196/196 [==============================] - 7s 33ms/step - loss: 0.0450 - accuracy: 0.9858 - val_loss: 3.9936 - val_accuracy: 0.5574\n",
      "Epoch 84/100\n",
      "196/196 [==============================] - 6s 32ms/step - loss: 0.0505 - accuracy: 0.9846 - val_loss: 3.9769 - val_accuracy: 0.5490\n",
      "Epoch 85/100\n",
      "196/196 [==============================] - 6s 32ms/step - loss: 0.0647 - accuracy: 0.9803 - val_loss: 3.7448 - val_accuracy: 0.5420\n",
      "Epoch 86/100\n",
      "196/196 [==============================] - 5s 27ms/step - loss: 0.0582 - accuracy: 0.9807 - val_loss: 3.8676 - val_accuracy: 0.5490\n",
      "Epoch 87/100\n",
      "196/196 [==============================] - 5s 28ms/step - loss: 0.0567 - accuracy: 0.9823 - val_loss: 3.8022 - val_accuracy: 0.5349\n",
      "Epoch 88/100\n",
      "196/196 [==============================] - 5s 26ms/step - loss: 0.0560 - accuracy: 0.9826 - val_loss: 3.8249 - val_accuracy: 0.5450\n",
      "Epoch 89/100\n",
      "196/196 [==============================] - 5s 27ms/step - loss: 0.0579 - accuracy: 0.9823 - val_loss: 3.6104 - val_accuracy: 0.5496\n",
      "Epoch 90/100\n",
      "196/196 [==============================] - 5s 28ms/step - loss: 0.0515 - accuracy: 0.9842 - val_loss: 3.7259 - val_accuracy: 0.5500\n",
      "Epoch 91/100\n",
      "196/196 [==============================] - 6s 33ms/step - loss: 0.0601 - accuracy: 0.9813 - val_loss: 3.6677 - val_accuracy: 0.5519\n",
      "Epoch 92/100\n",
      "196/196 [==============================] - 6s 32ms/step - loss: 0.0446 - accuracy: 0.9858 - val_loss: 3.8730 - val_accuracy: 0.5499\n",
      "Epoch 93/100\n",
      "196/196 [==============================] - 6s 29ms/step - loss: 0.0674 - accuracy: 0.9795 - val_loss: 3.4987 - val_accuracy: 0.5432\n",
      "Epoch 94/100\n",
      "196/196 [==============================] - 5s 28ms/step - loss: 0.0411 - accuracy: 0.9878 - val_loss: 3.9597 - val_accuracy: 0.5560\n",
      "Epoch 95/100\n",
      "196/196 [==============================] - 6s 28ms/step - loss: 0.0590 - accuracy: 0.9815 - val_loss: 3.7581 - val_accuracy: 0.5497\n",
      "Epoch 96/100\n",
      "196/196 [==============================] - 6s 31ms/step - loss: 0.0586 - accuracy: 0.9818 - val_loss: 3.5073 - val_accuracy: 0.5439\n",
      "Epoch 97/100\n",
      "196/196 [==============================] - 6s 30ms/step - loss: 0.0497 - accuracy: 0.9842 - val_loss: 3.6295 - val_accuracy: 0.5529\n",
      "Epoch 98/100\n",
      "196/196 [==============================] - 5s 28ms/step - loss: 0.0470 - accuracy: 0.9859 - val_loss: 3.7701 - val_accuracy: 0.5467\n",
      "Epoch 99/100\n",
      "196/196 [==============================] - 5s 27ms/step - loss: 0.0514 - accuracy: 0.9849 - val_loss: 3.8535 - val_accuracy: 0.5509\n",
      "Epoch 100/100\n",
      "196/196 [==============================] - 5s 26ms/step - loss: 0.0552 - accuracy: 0.9835 - val_loss: 3.7156 - val_accuracy: 0.5425\n"
     ]
    },
    {
     "data": {
      "text/plain": [
       "<tensorflow.python.keras.callbacks.History at 0x7f7ed3e2f250>"
      ]
     },
     "execution_count": 12,
     "metadata": {},
     "output_type": "execute_result"
    }
   ],
   "source": [
    "model.fit(x_train, y_train, \n",
    "          epochs=EPOCHS, \n",
    "          batch_size=BATCH_SIZE, \n",
    "          validation_data=(x_test, y_test), \n",
    "          shuffle=True)"
   ]
  },
  {
   "cell_type": "code",
   "execution_count": 13,
   "metadata": {},
   "outputs": [
    {
     "data": {
      "image/png": "[encoded data removed]",
      "text/plain": [
       "<Figure size 432x288 with 1 Axes>"
      ]
     },
     "metadata": {
      "needs_background": "light"
     },
     "output_type": "display_data"
    },
    {
     "data": {
      "image/png": "[encoded data removed]",
      "text/plain": [
       "<Figure size 432x288 with 1 Axes>"
      ]
     },
     "metadata": {
      "needs_background": "light"
     },
     "output_type": "display_data"
    }
   ],
   "source": [
    "import matplotlib.pyplot as plt\n",
    "\n",
    "\n",
    "train_loss = model.history.history[\"loss\"]\n",
    "valid_loss = model.history.history[\"val_loss\"]\n",
    "\n",
    "train_acc = model.history.history[\"accuracy\"]\n",
    "valid_acc = model.history.history[\"val_accuracy\"]\n",
    "\n",
    "plt.plot(range(len(train_loss)), train_loss, label=\"train loss\")\n",
    "plt.plot(range(len(valid_loss)), valid_loss, label=\"valid loss\")\n",
    "plt.legend()\n",
    "plt.title(\"Loss\")\n",
    "plt.show()\n",
    "\n",
    "plt.plot(range(len(train_acc)), train_acc, label=\"train accuracy\")\n",
    "plt.plot(range(len(valid_acc)), valid_acc, label=\"valid accuracy\")\n",
    "plt.legend()\n",
    "plt.title(\"Accuracy\")\n",
    "plt.show()"
   ]
  },
  {
   "cell_type": "code",
   "execution_count": null,
   "metadata": {},
   "outputs": [],
   "source": []
  }
 ],
 "metadata": {
  "kernelspec": {
   "display_name": "Python 3",
   "language": "python",
   "name": "python3"
  },
  "language_info": {
   "codemirror_mode": {
    "name": "ipython",
    "version": 3
   },
   "file_extension": ".py",
   "mimetype": "text/x-python",
   "name": "python",
   "nbconvert_exporter": "python",
   "pygments_lexer": "ipython3",
   "version": "3.7.7"
  }
 },
 "nbformat": 4,
 "nbformat_minor": 2
}
