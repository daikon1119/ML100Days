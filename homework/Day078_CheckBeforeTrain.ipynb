{
 "cells": [
  {
   "cell_type": "markdown",
   "metadata": {},
   "source": [
    "## 範例重點\n",
    "### 學習在模型開始前檢查各個環節\n",
    "1. 是否有 GPU 資源\n",
    "2. 將前處理轉為函式，統一處理訓練、驗證與測試集\n",
    "3. 將超參數變數化，易於重複使用函式、模型等"
   ]
  },
  {
   "cell_type": "code",
   "execution_count": 1,
   "metadata": {},
   "outputs": [
    {
     "name": "stdout",
     "output_type": "stream",
     "text": [
      "/bin/bash: nvidia-smi: command not found\r\n"
     ]
    }
   ],
   "source": [
    "## 確認硬體資源 (如果你是在 Linux, 若是在 Windows, 請參考 https://blog.csdn.net/idwtwt/article/details/78017565)\n",
    "!nvidia-smi"
   ]
  },
  {
   "cell_type": "code",
   "execution_count": 2,
   "metadata": {},
   "outputs": [],
   "source": [
    "import os\n",
    "import keras\n",
    "\n",
    "# 本範例不需使用 GPU, 將 GPU 設定為 \"無\"\n",
    "os.environ[\"CUDA_VISIBLE_DEVICES\"] = \"\""
   ]
  },
  {
   "cell_type": "code",
   "execution_count": 3,
   "metadata": {},
   "outputs": [],
   "source": [
    "# 從 Keras 的內建功能中，取得 train 與 test 資料集\n",
    "train, test = keras.datasets.cifar10.load_data()"
   ]
  },
  {
   "cell_type": "code",
   "execution_count": 4,
   "metadata": {},
   "outputs": [],
   "source": [
    "## 資料前處理\n",
    "def preproc_x(x, flatten=True):\n",
    "    x = x / 255.\n",
    "    if flatten:\n",
    "        x = x.reshape((len(x), -1))\n",
    "    return x\n",
    "\n",
    "def preproc_y(y, num_classes=10):\n",
    "    if y.shape[-1] == 1:\n",
    "        y = keras.utils.to_categorical(y, num_classes)\n",
    "    return y    "
   ]
  },
  {
   "cell_type": "code",
   "execution_count": 5,
   "metadata": {},
   "outputs": [],
   "source": [
    "x_train, y_train = train\n",
    "x_test, y_test = test\n",
    "\n",
    "# 資料前處理 - X 標準化\n",
    "x_train = preproc_x(x_train)\n",
    "x_test = preproc_x(x_test)\n",
    "\n",
    "# 資料前處理 -Y 轉成 onehot\n",
    "y_train = preproc_y(y_train)\n",
    "y_test = preproc_y(y_test)"
   ]
  },
  {
   "cell_type": "code",
   "execution_count": 6,
   "metadata": {},
   "outputs": [],
   "source": [
    "def build_mlp(input_shape, output_units=10, num_neurons=[512, 256, 128]):\n",
    "    input_layer = keras.layers.Input(input_shape)\n",
    "    \n",
    "    for i, n_units in enumerate(num_neurons):\n",
    "        if i == 0:\n",
    "            x = keras.layers.Dense(units=n_units, activation=\"relu\", name=\"hidden_layer\"+str(i+1))(input_layer)\n",
    "        else:\n",
    "            x = keras.layers.Dense(units=n_units, activation=\"relu\", name=\"hidden_layer\"+str(i+1))(x)\n",
    "    \n",
    "    out = keras.layers.Dense(units=output_units, activation=\"softmax\", name=\"output\")(x)\n",
    "    \n",
    "    model = keras.models.Model(inputs=[input_layer], outputs=[out])\n",
    "    return model"
   ]
  },
  {
   "cell_type": "code",
   "execution_count": 7,
   "metadata": {},
   "outputs": [
    {
     "name": "stdout",
     "output_type": "stream",
     "text": [
      "Model: \"functional_1\"\n",
      "_________________________________________________________________\n",
      "Layer (type)                 Output Shape              Param #   \n",
      "=================================================================\n",
      "input_1 (InputLayer)         [(None, 3072)]            0         \n",
      "_________________________________________________________________\n",
      "hidden_layer1 (Dense)        (None, 512)               1573376   \n",
      "_________________________________________________________________\n",
      "hidden_layer2 (Dense)        (None, 256)               131328    \n",
      "_________________________________________________________________\n",
      "hidden_layer3 (Dense)        (None, 128)               32896     \n",
      "_________________________________________________________________\n",
      "output (Dense)               (None, 10)                1290      \n",
      "=================================================================\n",
      "Total params: 1,738,890\n",
      "Trainable params: 1,738,890\n",
      "Non-trainable params: 0\n",
      "_________________________________________________________________\n"
     ]
    }
   ],
   "source": [
    "model = build_mlp(input_shape=x_train.shape[1:])\n",
    "model.summary()"
   ]
  },
  {
   "cell_type": "code",
   "execution_count": 8,
   "metadata": {},
   "outputs": [],
   "source": [
    "## 超參數設定\n",
    "LEARNING_RATE = 0.001\n",
    "EPOCHS = 100\n",
    "BATCH_SIZE = 256"
   ]
  },
  {
   "cell_type": "code",
   "execution_count": 9,
   "metadata": {},
   "outputs": [],
   "source": [
    "optimizer = keras.optimizers.Adam(lr=LEARNING_RATE)\n",
    "model.compile(loss=\"categorical_crossentropy\", metrics=[\"accuracy\"], optimizer=optimizer)"
   ]
  },
  {
   "cell_type": "code",
   "execution_count": 10,
   "metadata": {},
   "outputs": [
    {
     "name": "stdout",
     "output_type": "stream",
     "text": [
      "Epoch 1/100\n",
      "196/196 [==============================] - 2s 12ms/step - loss: 1.9480 - accuracy: 0.2996 - val_loss: 1.8630 - val_accuracy: 0.3263\n",
      "Epoch 2/100\n",
      "196/196 [==============================] - 2s 10ms/step - loss: 1.7193 - accuracy: 0.3860 - val_loss: 1.6612 - val_accuracy: 0.4124\n",
      "Epoch 3/100\n",
      "196/196 [==============================] - 2s 11ms/step - loss: 1.6147 - accuracy: 0.4245 - val_loss: 1.6152 - val_accuracy: 0.4187\n",
      "Epoch 4/100\n",
      "196/196 [==============================] - 2s 11ms/step - loss: 1.5670 - accuracy: 0.4409 - val_loss: 1.5473 - val_accuracy: 0.4519\n",
      "Epoch 5/100\n",
      "196/196 [==============================] - 2s 11ms/step - loss: 1.5024 - accuracy: 0.4657 - val_loss: 1.5110 - val_accuracy: 0.4621\n",
      "Epoch 6/100\n",
      "196/196 [==============================] - 2s 12ms/step - loss: 1.4621 - accuracy: 0.4818 - val_loss: 1.4966 - val_accuracy: 0.4637\n",
      "Epoch 7/100\n",
      "196/196 [==============================] - 2s 11ms/step - loss: 1.4353 - accuracy: 0.4860 - val_loss: 1.4619 - val_accuracy: 0.4710\n",
      "Epoch 8/100\n",
      "196/196 [==============================] - 2s 11ms/step - loss: 1.4091 - accuracy: 0.4980 - val_loss: 1.4392 - val_accuracy: 0.4842\n",
      "Epoch 9/100\n",
      "196/196 [==============================] - 2s 10ms/step - loss: 1.3884 - accuracy: 0.5046 - val_loss: 1.4332 - val_accuracy: 0.4875\n",
      "Epoch 10/100\n",
      "196/196 [==============================] - 2s 11ms/step - loss: 1.3527 - accuracy: 0.5179 - val_loss: 1.4160 - val_accuracy: 0.4989\n",
      "Epoch 11/100\n",
      "196/196 [==============================] - 2s 11ms/step - loss: 1.3294 - accuracy: 0.5263 - val_loss: 1.4345 - val_accuracy: 0.4878\n",
      "Epoch 12/100\n",
      "196/196 [==============================] - 2s 11ms/step - loss: 1.3018 - accuracy: 0.5357 - val_loss: 1.4117 - val_accuracy: 0.5020\n",
      "Epoch 13/100\n",
      "196/196 [==============================] - 2s 11ms/step - loss: 1.2922 - accuracy: 0.5396 - val_loss: 1.4003 - val_accuracy: 0.5028\n",
      "Epoch 14/100\n",
      "196/196 [==============================] - 2s 11ms/step - loss: 1.2598 - accuracy: 0.5513 - val_loss: 1.4146 - val_accuracy: 0.5044\n",
      "Epoch 15/100\n",
      "196/196 [==============================] - 2s 12ms/step - loss: 1.2334 - accuracy: 0.5599 - val_loss: 1.3661 - val_accuracy: 0.5206\n",
      "Epoch 16/100\n",
      "196/196 [==============================] - 2s 11ms/step - loss: 1.2156 - accuracy: 0.5655 - val_loss: 1.3789 - val_accuracy: 0.5156\n",
      "Epoch 17/100\n",
      "196/196 [==============================] - 2s 11ms/step - loss: 1.1959 - accuracy: 0.5718 - val_loss: 1.3959 - val_accuracy: 0.5097\n",
      "Epoch 18/100\n",
      "196/196 [==============================] - 2s 11ms/step - loss: 1.1771 - accuracy: 0.5806 - val_loss: 1.3913 - val_accuracy: 0.5172\n",
      "Epoch 19/100\n",
      "196/196 [==============================] - 2s 11ms/step - loss: 1.1497 - accuracy: 0.5904 - val_loss: 1.3794 - val_accuracy: 0.5106\n",
      "Epoch 20/100\n",
      "196/196 [==============================] - 2s 12ms/step - loss: 1.1313 - accuracy: 0.5968 - val_loss: 1.3737 - val_accuracy: 0.5176\n",
      "Epoch 21/100\n",
      "196/196 [==============================] - 3s 13ms/step - loss: 1.1159 - accuracy: 0.6018 - val_loss: 1.3861 - val_accuracy: 0.5166\n",
      "Epoch 22/100\n",
      "196/196 [==============================] - 2s 11ms/step - loss: 1.1019 - accuracy: 0.6065 - val_loss: 1.3834 - val_accuracy: 0.5148\n",
      "Epoch 23/100\n",
      "196/196 [==============================] - 2s 12ms/step - loss: 1.0810 - accuracy: 0.6159 - val_loss: 1.3913 - val_accuracy: 0.5203\n",
      "Epoch 24/100\n",
      "196/196 [==============================] - 2s 11ms/step - loss: 1.0710 - accuracy: 0.6189 - val_loss: 1.3782 - val_accuracy: 0.5261\n",
      "Epoch 25/100\n",
      "196/196 [==============================] - 2s 11ms/step - loss: 1.0457 - accuracy: 0.6262 - val_loss: 1.4190 - val_accuracy: 0.5197\n",
      "Epoch 26/100\n",
      "196/196 [==============================] - 2s 12ms/step - loss: 1.0213 - accuracy: 0.6369 - val_loss: 1.3910 - val_accuracy: 0.5222\n",
      "Epoch 27/100\n",
      "196/196 [==============================] - 2s 12ms/step - loss: 1.0015 - accuracy: 0.6436 - val_loss: 1.3791 - val_accuracy: 0.5306\n",
      "Epoch 28/100\n",
      "196/196 [==============================] - 2s 11ms/step - loss: 0.9929 - accuracy: 0.6456 - val_loss: 1.4111 - val_accuracy: 0.5295\n",
      "Epoch 29/100\n",
      "196/196 [==============================] - 2s 11ms/step - loss: 0.9714 - accuracy: 0.6532 - val_loss: 1.4086 - val_accuracy: 0.5269\n",
      "Epoch 30/100\n",
      "196/196 [==============================] - 2s 11ms/step - loss: 0.9508 - accuracy: 0.6603 - val_loss: 1.4617 - val_accuracy: 0.5185\n",
      "Epoch 31/100\n",
      "196/196 [==============================] - 2s 12ms/step - loss: 0.9392 - accuracy: 0.6644 - val_loss: 1.4112 - val_accuracy: 0.5252\n",
      "Epoch 32/100\n",
      "196/196 [==============================] - 2s 11ms/step - loss: 0.9174 - accuracy: 0.6725 - val_loss: 1.4862 - val_accuracy: 0.5121\n",
      "Epoch 33/100\n",
      "196/196 [==============================] - 2s 11ms/step - loss: 0.9103 - accuracy: 0.6732 - val_loss: 1.4412 - val_accuracy: 0.5282\n",
      "Epoch 34/100\n",
      "196/196 [==============================] - 2s 11ms/step - loss: 0.8904 - accuracy: 0.6829 - val_loss: 1.4568 - val_accuracy: 0.5247\n",
      "Epoch 35/100\n",
      "196/196 [==============================] - 2s 11ms/step - loss: 0.8743 - accuracy: 0.6878 - val_loss: 1.5032 - val_accuracy: 0.5138\n",
      "Epoch 36/100\n",
      "196/196 [==============================] - 2s 12ms/step - loss: 0.8531 - accuracy: 0.6952 - val_loss: 1.4825 - val_accuracy: 0.5297\n",
      "Epoch 37/100\n",
      "196/196 [==============================] - 2s 12ms/step - loss: 0.8280 - accuracy: 0.7056 - val_loss: 1.5064 - val_accuracy: 0.5281\n",
      "Epoch 38/100\n",
      "196/196 [==============================] - 2s 11ms/step - loss: 0.8172 - accuracy: 0.7086 - val_loss: 1.5182 - val_accuracy: 0.5298\n",
      "Epoch 39/100\n",
      "196/196 [==============================] - 2s 11ms/step - loss: 0.8068 - accuracy: 0.7120 - val_loss: 1.5660 - val_accuracy: 0.5172\n",
      "Epoch 40/100\n",
      "196/196 [==============================] - 2s 11ms/step - loss: 0.7880 - accuracy: 0.7189 - val_loss: 1.5760 - val_accuracy: 0.5222\n",
      "Epoch 41/100\n",
      "196/196 [==============================] - 2s 12ms/step - loss: 0.7710 - accuracy: 0.7239 - val_loss: 1.5586 - val_accuracy: 0.5308\n",
      "Epoch 42/100\n",
      "196/196 [==============================] - 2s 12ms/step - loss: 0.7550 - accuracy: 0.7310 - val_loss: 1.6232 - val_accuracy: 0.5161\n",
      "Epoch 43/100\n",
      "196/196 [==============================] - 2s 12ms/step - loss: 0.7384 - accuracy: 0.7350 - val_loss: 1.6141 - val_accuracy: 0.5245\n",
      "Epoch 44/100\n",
      "196/196 [==============================] - 2s 12ms/step - loss: 0.7285 - accuracy: 0.7395 - val_loss: 1.6469 - val_accuracy: 0.5183\n",
      "Epoch 45/100\n",
      "196/196 [==============================] - 2s 13ms/step - loss: 0.7219 - accuracy: 0.7423 - val_loss: 1.6624 - val_accuracy: 0.5161\n",
      "Epoch 46/100\n",
      "196/196 [==============================] - 2s 12ms/step - loss: 0.6952 - accuracy: 0.7510 - val_loss: 1.7393 - val_accuracy: 0.5104\n",
      "Epoch 47/100\n",
      "196/196 [==============================] - 2s 12ms/step - loss: 0.6946 - accuracy: 0.7527 - val_loss: 1.7185 - val_accuracy: 0.5207\n",
      "Epoch 48/100\n",
      "196/196 [==============================] - 2s 11ms/step - loss: 0.6817 - accuracy: 0.7562 - val_loss: 1.7161 - val_accuracy: 0.5211\n",
      "Epoch 49/100\n",
      "196/196 [==============================] - 2s 12ms/step - loss: 0.6537 - accuracy: 0.7676 - val_loss: 1.7695 - val_accuracy: 0.5145\n",
      "Epoch 50/100\n",
      "196/196 [==============================] - 2s 12ms/step - loss: 0.6485 - accuracy: 0.7678 - val_loss: 1.8032 - val_accuracy: 0.5223\n",
      "Epoch 51/100\n",
      "196/196 [==============================] - 2s 12ms/step - loss: 0.6317 - accuracy: 0.7742 - val_loss: 1.8160 - val_accuracy: 0.5137\n",
      "Epoch 52/100\n",
      "196/196 [==============================] - 2s 12ms/step - loss: 0.6274 - accuracy: 0.7776 - val_loss: 1.8387 - val_accuracy: 0.5196\n",
      "Epoch 53/100\n",
      "196/196 [==============================] - 2s 11ms/step - loss: 0.6244 - accuracy: 0.7772 - val_loss: 1.8182 - val_accuracy: 0.5201\n",
      "Epoch 54/100\n",
      "196/196 [==============================] - 2s 11ms/step - loss: 0.6022 - accuracy: 0.7840 - val_loss: 1.8900 - val_accuracy: 0.5169\n",
      "Epoch 55/100\n",
      "196/196 [==============================] - 2s 12ms/step - loss: 0.5835 - accuracy: 0.7935 - val_loss: 1.8907 - val_accuracy: 0.5176\n",
      "Epoch 56/100\n",
      "196/196 [==============================] - 2s 11ms/step - loss: 0.5883 - accuracy: 0.7900 - val_loss: 1.8829 - val_accuracy: 0.5181\n",
      "Epoch 57/100\n"
     ]
    },
    {
     "name": "stdout",
     "output_type": "stream",
     "text": [
      "196/196 [==============================] - 2s 11ms/step - loss: 0.5615 - accuracy: 0.7985 - val_loss: 1.9054 - val_accuracy: 0.5181\n",
      "Epoch 58/100\n",
      "196/196 [==============================] - 2s 12ms/step - loss: 0.5619 - accuracy: 0.8000 - val_loss: 1.9360 - val_accuracy: 0.5193\n",
      "Epoch 59/100\n",
      "196/196 [==============================] - 2s 11ms/step - loss: 0.5545 - accuracy: 0.8016 - val_loss: 1.9886 - val_accuracy: 0.5271\n",
      "Epoch 60/100\n",
      "196/196 [==============================] - 2s 11ms/step - loss: 0.5302 - accuracy: 0.8125 - val_loss: 2.0632 - val_accuracy: 0.5152\n",
      "Epoch 61/100\n",
      "196/196 [==============================] - 2s 11ms/step - loss: 0.5235 - accuracy: 0.8138 - val_loss: 2.0769 - val_accuracy: 0.5091\n",
      "Epoch 62/100\n",
      "196/196 [==============================] - 2s 11ms/step - loss: 0.5183 - accuracy: 0.8154 - val_loss: 2.1482 - val_accuracy: 0.5181\n",
      "Epoch 63/100\n",
      "196/196 [==============================] - 2s 11ms/step - loss: 0.5063 - accuracy: 0.8199 - val_loss: 2.0612 - val_accuracy: 0.5174\n",
      "Epoch 64/100\n",
      "196/196 [==============================] - 2s 11ms/step - loss: 0.5041 - accuracy: 0.8190 - val_loss: 2.1593 - val_accuracy: 0.5163\n",
      "Epoch 65/100\n",
      "196/196 [==============================] - 2s 11ms/step - loss: 0.5053 - accuracy: 0.8189 - val_loss: 2.1436 - val_accuracy: 0.5142\n",
      "Epoch 66/100\n",
      "196/196 [==============================] - 2s 11ms/step - loss: 0.4678 - accuracy: 0.8336 - val_loss: 2.1576 - val_accuracy: 0.5098\n",
      "Epoch 67/100\n",
      "196/196 [==============================] - 2s 11ms/step - loss: 0.4699 - accuracy: 0.8327 - val_loss: 2.2255 - val_accuracy: 0.5067\n",
      "Epoch 68/100\n",
      "196/196 [==============================] - 2s 11ms/step - loss: 0.4747 - accuracy: 0.8294 - val_loss: 2.2296 - val_accuracy: 0.5134\n",
      "Epoch 69/100\n",
      "196/196 [==============================] - 2s 11ms/step - loss: 0.4608 - accuracy: 0.8357 - val_loss: 2.2122 - val_accuracy: 0.5171\n",
      "Epoch 70/100\n",
      "196/196 [==============================] - 2s 11ms/step - loss: 0.4473 - accuracy: 0.8414 - val_loss: 2.3328 - val_accuracy: 0.5133\n",
      "Epoch 71/100\n",
      "196/196 [==============================] - 2s 11ms/step - loss: 0.4389 - accuracy: 0.8435 - val_loss: 2.3887 - val_accuracy: 0.5058\n",
      "Epoch 72/100\n",
      "196/196 [==============================] - 2s 12ms/step - loss: 0.4309 - accuracy: 0.8473 - val_loss: 2.3765 - val_accuracy: 0.5134\n",
      "Epoch 73/100\n",
      "196/196 [==============================] - 2s 12ms/step - loss: 0.4322 - accuracy: 0.8457 - val_loss: 2.4510 - val_accuracy: 0.5037\n",
      "Epoch 74/100\n",
      "196/196 [==============================] - 2s 11ms/step - loss: 0.4239 - accuracy: 0.8471 - val_loss: 2.4596 - val_accuracy: 0.5062\n",
      "Epoch 75/100\n",
      "196/196 [==============================] - 2s 12ms/step - loss: 0.4176 - accuracy: 0.8494 - val_loss: 2.4466 - val_accuracy: 0.5133\n",
      "Epoch 76/100\n",
      "196/196 [==============================] - 2s 12ms/step - loss: 0.4105 - accuracy: 0.8521 - val_loss: 2.5143 - val_accuracy: 0.5157\n",
      "Epoch 77/100\n",
      "196/196 [==============================] - 2s 11ms/step - loss: 0.3912 - accuracy: 0.8609 - val_loss: 2.5349 - val_accuracy: 0.5162\n",
      "Epoch 78/100\n",
      "196/196 [==============================] - 2s 11ms/step - loss: 0.3895 - accuracy: 0.8599 - val_loss: 2.5377 - val_accuracy: 0.5069\n",
      "Epoch 79/100\n",
      "196/196 [==============================] - 2s 11ms/step - loss: 0.3827 - accuracy: 0.8625 - val_loss: 2.5438 - val_accuracy: 0.5081\n",
      "Epoch 80/100\n",
      "196/196 [==============================] - 2s 11ms/step - loss: 0.3785 - accuracy: 0.8641 - val_loss: 2.6022 - val_accuracy: 0.5065\n",
      "Epoch 81/100\n",
      "196/196 [==============================] - 2s 11ms/step - loss: 0.3727 - accuracy: 0.8663 - val_loss: 2.7101 - val_accuracy: 0.5074\n",
      "Epoch 82/100\n",
      "196/196 [==============================] - 2s 11ms/step - loss: 0.3742 - accuracy: 0.8656 - val_loss: 2.6728 - val_accuracy: 0.5133\n",
      "Epoch 83/100\n",
      "196/196 [==============================] - 2s 12ms/step - loss: 0.3610 - accuracy: 0.8699 - val_loss: 2.6926 - val_accuracy: 0.5155\n",
      "Epoch 84/100\n",
      "196/196 [==============================] - 2s 11ms/step - loss: 0.3473 - accuracy: 0.8763 - val_loss: 2.8332 - val_accuracy: 0.5023\n",
      "Epoch 85/100\n",
      "196/196 [==============================] - 2s 11ms/step - loss: 0.3715 - accuracy: 0.8669 - val_loss: 2.9034 - val_accuracy: 0.5037\n",
      "Epoch 86/100\n",
      "196/196 [==============================] - 2s 11ms/step - loss: 0.3649 - accuracy: 0.8679 - val_loss: 2.7849 - val_accuracy: 0.5052\n",
      "Epoch 87/100\n",
      "196/196 [==============================] - 2s 11ms/step - loss: 0.3442 - accuracy: 0.8760 - val_loss: 2.8226 - val_accuracy: 0.5135\n",
      "Epoch 88/100\n",
      "196/196 [==============================] - 2s 11ms/step - loss: 0.3501 - accuracy: 0.8730 - val_loss: 2.8812 - val_accuracy: 0.5015\n",
      "Epoch 89/100\n",
      "196/196 [==============================] - 2s 11ms/step - loss: 0.3356 - accuracy: 0.8792 - val_loss: 2.8850 - val_accuracy: 0.5013\n",
      "Epoch 90/100\n",
      "196/196 [==============================] - 2s 11ms/step - loss: 0.3232 - accuracy: 0.8843 - val_loss: 2.8926 - val_accuracy: 0.5096\n",
      "Epoch 91/100\n",
      "196/196 [==============================] - 2s 11ms/step - loss: 0.3119 - accuracy: 0.8885 - val_loss: 2.9556 - val_accuracy: 0.4958\n",
      "Epoch 92/100\n",
      "196/196 [==============================] - 2s 11ms/step - loss: 0.3300 - accuracy: 0.8823 - val_loss: 2.9026 - val_accuracy: 0.5123\n",
      "Epoch 93/100\n",
      "196/196 [==============================] - 2s 11ms/step - loss: 0.3172 - accuracy: 0.8863 - val_loss: 3.0976 - val_accuracy: 0.5110\n",
      "Epoch 94/100\n",
      "196/196 [==============================] - 2s 11ms/step - loss: 0.3016 - accuracy: 0.8921 - val_loss: 3.1076 - val_accuracy: 0.5027\n",
      "Epoch 95/100\n",
      "196/196 [==============================] - 2s 11ms/step - loss: 0.3147 - accuracy: 0.8881 - val_loss: 3.1136 - val_accuracy: 0.5018\n",
      "Epoch 96/100\n",
      "196/196 [==============================] - 2s 11ms/step - loss: 0.3045 - accuracy: 0.8910 - val_loss: 3.1170 - val_accuracy: 0.5063\n",
      "Epoch 97/100\n",
      "196/196 [==============================] - 2s 11ms/step - loss: 0.2822 - accuracy: 0.8983 - val_loss: 3.1457 - val_accuracy: 0.5082\n",
      "Epoch 98/100\n",
      "196/196 [==============================] - 2s 12ms/step - loss: 0.3059 - accuracy: 0.8887 - val_loss: 3.1784 - val_accuracy: 0.5077\n",
      "Epoch 99/100\n",
      "196/196 [==============================] - 2s 11ms/step - loss: 0.2969 - accuracy: 0.8922 - val_loss: 3.2597 - val_accuracy: 0.5078\n",
      "Epoch 100/100\n",
      "196/196 [==============================] - 2s 11ms/step - loss: 0.3306 - accuracy: 0.8806 - val_loss: 3.1745 - val_accuracy: 0.5012\n"
     ]
    },
    {
     "data": {
      "text/plain": [
       "<tensorflow.python.keras.callbacks.History at 0x7fc26474fa50>"
      ]
     },
     "execution_count": 10,
     "metadata": {},
     "output_type": "execute_result"
    }
   ],
   "source": [
    "model.fit(x_train, y_train, \n",
    "          epochs=EPOCHS, \n",
    "          batch_size=BATCH_SIZE, \n",
    "          validation_data=(x_test, y_test), \n",
    "          shuffle=True)"
   ]
  },
  {
   "cell_type": "code",
   "execution_count": 13,
   "metadata": {},
   "outputs": [
    {
     "data": {
      "image/png": "[encoded data removed]",
      "text/plain": [
       "<Figure size 432x288 with 1 Axes>"
      ]
     },
     "metadata": {
      "needs_background": "light"
     },
     "output_type": "display_data"
    },
    {
     "data": {
      "image/png": "[encoded data removed]",
      "text/plain": [
       "<Figure size 432x288 with 1 Axes>"
      ]
     },
     "metadata": {
      "needs_background": "light"
     },
     "output_type": "display_data"
    }
   ],
   "source": [
    "# 訓練模型並檢視驗證集的結果\n",
    "import matplotlib.pyplot as plt\n",
    "\n",
    "train_loss = model.history.history[\"loss\"]\n",
    "valid_loss = model.history.history[\"val_loss\"]\n",
    "\n",
    "train_acc = model.history.history[\"accuracy\"]\n",
    "valid_acc = model.history.history[\"val_accuracy\"]\n",
    "\n",
    "plt.plot(range(len(train_loss)), train_loss, label=\"train loss\")\n",
    "plt.plot(range(len(valid_loss)), valid_loss, label=\"valid loss\")\n",
    "plt.legend()\n",
    "plt.title(\"Loss\")\n",
    "plt.show()\n",
    "\n",
    "plt.plot(range(len(train_acc)), train_acc, label=\"train accuracy\")\n",
    "plt.plot(range(len(valid_acc)), valid_acc, label=\"valid accuracy\")\n",
    "plt.legend()\n",
    "plt.title(\"Accuracy\")\n",
    "plt.show()"
   ]
  },
  {
   "cell_type": "markdown",
   "metadata": {},
   "source": [
    "## Work\n",
    "1. 請嘗試將 preproc_x 替換成以每筆資料的 min/max 進行標準化至 -1 ~ 1 間，再進行訓練\n",
    "2. 請嘗試將 mlp 疊更深 (e.g 5~10 層)，進行訓練後觀察 learning curve 的走勢\n",
    "3. (optional) 請改用 GPU 進行訓練 (如果你有 GPU 的話)，比較使用 CPU 與 GPU 的訓練速度"
   ]
  },
  {
   "cell_type": "code",
   "execution_count": null,
   "metadata": {},
   "outputs": [],
   "source": []
  }
 ],
 "metadata": {
  "kernelspec": {
   "display_name": "Python 3",
   "language": "python",
   "name": "python3"
  },
  "language_info": {
   "codemirror_mode": {
    "name": "ipython",
    "version": 3
   },
   "file_extension": ".py",
   "mimetype": "text/x-python",
   "name": "python",
   "nbconvert_exporter": "python",
   "pygments_lexer": "ipython3",
   "version": "3.7.7"
  }
 },
 "nbformat": 4,
 "nbformat_minor": 2
}
