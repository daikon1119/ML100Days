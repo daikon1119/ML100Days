{
 "cells": [
  {
   "cell_type": "markdown",
   "metadata": {},
   "source": [
    "## 範例重點\n",
    "* 學會從 Keras 內建函式取得資料\n",
    "* 能夠建立簡易的深度學習模型\n",
    "* 觀察並了解 Overfit 現象"
   ]
  },
  {
   "cell_type": "code",
   "execution_count": 6,
   "metadata": {},
   "outputs": [],
   "source": [
    "import os\n",
    "import keras\n",
    "\n",
    "# 本範例不需使用 GPU, 將 GPU 設定為 \"無\"\n",
    "os.environ[\"CUDA_VISIBLE_DEVICES\"] = \"\""
   ]
  },
  {
   "cell_type": "code",
   "execution_count": 7,
   "metadata": {},
   "outputs": [],
   "source": [
    "# 從 Keras 的內建功能中，取得 train 與 test 資料集\n",
    "train, test = keras.datasets.cifar10.load_data()"
   ]
  },
  {
   "cell_type": "code",
   "execution_count": 8,
   "metadata": {},
   "outputs": [],
   "source": [
    "# 將 X 與 Y 獨立放進變數\n",
    "x_train, y_train = train\n",
    "x_test, y_test = test\n",
    "# 資料前處理 - 標準化\n",
    "x_train = x_train / 255.\n",
    "x_test = x_test / 255.\n",
    "\n",
    "# 將資料從圖形 (RGB) 轉為向量 (Single Vector)\n",
    "x_train = x_train.reshape((len(x_train), -1))\n",
    "x_test = x_test.reshape((len(x_test), -1))\n",
    "\n",
    "# 將目標轉為 one-hot encoding\n",
    "y_train = keras.utils.to_categorical(y_train, num_classes=10)\n",
    "y_test = keras.utils.to_categorical(y_test, num_classes=10)"
   ]
  },
  {
   "cell_type": "code",
   "execution_count": 9,
   "metadata": {},
   "outputs": [],
   "source": [
    "# 建立一個有三層隱藏層之神經網路\n",
    "def build_mlp():\n",
    "    input_layer = keras.layers.Input([x_train.shape[-1]])\n",
    "    x = keras.layers.Dense(units=512, activation=\"relu\")(input_layer)\n",
    "    x = keras.layers.Dense(units=256, activation=\"relu\")(x)\n",
    "    x = keras.layers.Dense(units=128, activation=\"relu\")(x)\n",
    "    out = keras.layers.Dense(units=10, activation=\"softmax\")(x)\n",
    "    \n",
    "    model = keras.models.Model(inputs=[input_layer], outputs=[out])\n",
    "    return model"
   ]
  },
  {
   "cell_type": "code",
   "execution_count": 10,
   "metadata": {},
   "outputs": [
    {
     "name": "stdout",
     "output_type": "stream",
     "text": [
      "Model: \"functional_3\"\n",
      "_________________________________________________________________\n",
      "Layer (type)                 Output Shape              Param #   \n",
      "=================================================================\n",
      "input_2 (InputLayer)         [(None, 3072)]            0         \n",
      "_________________________________________________________________\n",
      "dense_4 (Dense)              (None, 512)               1573376   \n",
      "_________________________________________________________________\n",
      "dense_5 (Dense)              (None, 256)               131328    \n",
      "_________________________________________________________________\n",
      "dense_6 (Dense)              (None, 128)               32896     \n",
      "_________________________________________________________________\n",
      "dense_7 (Dense)              (None, 10)                1290      \n",
      "=================================================================\n",
      "Total params: 1,738,890\n",
      "Trainable params: 1,738,890\n",
      "Non-trainable params: 0\n",
      "_________________________________________________________________\n"
     ]
    }
   ],
   "source": [
    "model = build_mlp()\n",
    "# 用 Keras 內建方法檢視模型各層參數量\n",
    "model.summary()\n",
    "\n",
    "optimizer = keras.optimizers.Adam(lr=0.001)\n",
    "model.compile(loss=\"categorical_crossentropy\", metrics=[\"accuracy\"], optimizer=optimizer)"
   ]
  },
  {
   "cell_type": "code",
   "execution_count": 11,
   "metadata": {},
   "outputs": [
    {
     "name": "stdout",
     "output_type": "stream",
     "text": [
      "Epoch 1/100\n",
      "196/196 [==============================] - 2s 11ms/step - loss: 1.9502 - accuracy: 0.2980 - val_loss: 1.8033 - val_accuracy: 0.3493\n",
      "Epoch 2/100\n",
      "196/196 [==============================] - 2s 11ms/step - loss: 1.7184 - accuracy: 0.3852 - val_loss: 1.6475 - val_accuracy: 0.4125\n",
      "Epoch 3/100\n",
      "196/196 [==============================] - 2s 12ms/step - loss: 1.6335 - accuracy: 0.4163 - val_loss: 1.6089 - val_accuracy: 0.4246\n",
      "Epoch 4/100\n",
      "196/196 [==============================] - 2s 11ms/step - loss: 1.5678 - accuracy: 0.4402 - val_loss: 1.5681 - val_accuracy: 0.4449\n",
      "Epoch 5/100\n",
      "196/196 [==============================] - 2s 11ms/step - loss: 1.5107 - accuracy: 0.4612 - val_loss: 1.5089 - val_accuracy: 0.4629\n",
      "Epoch 6/100\n",
      "196/196 [==============================] - 2s 11ms/step - loss: 1.4770 - accuracy: 0.4721 - val_loss: 1.5160 - val_accuracy: 0.4564\n",
      "Epoch 7/100\n",
      "196/196 [==============================] - 2s 11ms/step - loss: 1.4434 - accuracy: 0.4844 - val_loss: 1.5169 - val_accuracy: 0.4491\n",
      "Epoch 8/100\n",
      "196/196 [==============================] - 2s 11ms/step - loss: 1.4146 - accuracy: 0.4977 - val_loss: 1.4967 - val_accuracy: 0.4671\n",
      "Epoch 9/100\n",
      "196/196 [==============================] - 2s 11ms/step - loss: 1.3911 - accuracy: 0.5055 - val_loss: 1.4816 - val_accuracy: 0.4750\n",
      "Epoch 10/100\n",
      "196/196 [==============================] - 2s 11ms/step - loss: 1.3566 - accuracy: 0.5155 - val_loss: 1.4482 - val_accuracy: 0.4820\n",
      "Epoch 11/100\n",
      "196/196 [==============================] - 2s 11ms/step - loss: 1.3373 - accuracy: 0.5263 - val_loss: 1.4449 - val_accuracy: 0.4906\n",
      "Epoch 12/100\n",
      "196/196 [==============================] - 2s 11ms/step - loss: 1.3077 - accuracy: 0.5342 - val_loss: 1.4817 - val_accuracy: 0.4762\n",
      "Epoch 13/100\n",
      "196/196 [==============================] - 2s 11ms/step - loss: 1.2973 - accuracy: 0.5354 - val_loss: 1.3910 - val_accuracy: 0.5054\n",
      "Epoch 14/100\n",
      "196/196 [==============================] - 3s 13ms/step - loss: 1.2618 - accuracy: 0.5506 - val_loss: 1.4100 - val_accuracy: 0.5054\n",
      "Epoch 15/100\n",
      "196/196 [==============================] - 5s 26ms/step - loss: 1.2472 - accuracy: 0.5544 - val_loss: 1.4532 - val_accuracy: 0.4903\n",
      "Epoch 16/100\n",
      "196/196 [==============================] - 3s 15ms/step - loss: 1.2296 - accuracy: 0.5624 - val_loss: 1.3851 - val_accuracy: 0.5094\n",
      "Epoch 17/100\n",
      "196/196 [==============================] - 3s 14ms/step - loss: 1.2033 - accuracy: 0.5715 - val_loss: 1.3636 - val_accuracy: 0.5178\n",
      "Epoch 18/100\n",
      "196/196 [==============================] - 3s 13ms/step - loss: 1.1836 - accuracy: 0.5766 - val_loss: 1.3869 - val_accuracy: 0.5136\n",
      "Epoch 19/100\n",
      "196/196 [==============================] - 3s 13ms/step - loss: 1.1705 - accuracy: 0.5809 - val_loss: 1.3746 - val_accuracy: 0.5166\n",
      "Epoch 20/100\n",
      "196/196 [==============================] - 2s 12ms/step - loss: 1.1444 - accuracy: 0.5925 - val_loss: 1.3482 - val_accuracy: 0.5290\n",
      "Epoch 21/100\n",
      "196/196 [==============================] - 2s 11ms/step - loss: 1.1232 - accuracy: 0.5997 - val_loss: 1.3898 - val_accuracy: 0.5124\n",
      "Epoch 22/100\n",
      "196/196 [==============================] - 2s 11ms/step - loss: 1.1174 - accuracy: 0.6019 - val_loss: 1.3982 - val_accuracy: 0.5151\n",
      "Epoch 23/100\n",
      "196/196 [==============================] - 2s 11ms/step - loss: 1.0852 - accuracy: 0.6143 - val_loss: 1.3519 - val_accuracy: 0.5237\n",
      "Epoch 24/100\n",
      "196/196 [==============================] - 2s 11ms/step - loss: 1.0770 - accuracy: 0.6156 - val_loss: 1.4193 - val_accuracy: 0.5075\n",
      "Epoch 25/100\n",
      "196/196 [==============================] - 2s 11ms/step - loss: 1.0580 - accuracy: 0.6222 - val_loss: 1.3621 - val_accuracy: 0.5294\n",
      "Epoch 26/100\n",
      "196/196 [==============================] - 2s 12ms/step - loss: 1.0347 - accuracy: 0.6299 - val_loss: 1.4041 - val_accuracy: 0.5231\n",
      "Epoch 27/100\n",
      "196/196 [==============================] - 2s 11ms/step - loss: 1.0244 - accuracy: 0.6345 - val_loss: 1.3968 - val_accuracy: 0.5232\n",
      "Epoch 28/100\n",
      "196/196 [==============================] - 2s 11ms/step - loss: 1.0028 - accuracy: 0.6430 - val_loss: 1.3923 - val_accuracy: 0.5336\n",
      "Epoch 29/100\n",
      "196/196 [==============================] - 2s 11ms/step - loss: 0.9820 - accuracy: 0.6491 - val_loss: 1.4299 - val_accuracy: 0.5164\n",
      "Epoch 30/100\n",
      "196/196 [==============================] - 2s 11ms/step - loss: 0.9674 - accuracy: 0.6525 - val_loss: 1.3861 - val_accuracy: 0.5317\n",
      "Epoch 31/100\n",
      "196/196 [==============================] - 2s 11ms/step - loss: 0.9516 - accuracy: 0.6577 - val_loss: 1.4686 - val_accuracy: 0.5090\n",
      "Epoch 32/100\n",
      "196/196 [==============================] - 2s 11ms/step - loss: 0.9471 - accuracy: 0.6612 - val_loss: 1.4300 - val_accuracy: 0.5258\n",
      "Epoch 33/100\n",
      "196/196 [==============================] - 2s 11ms/step - loss: 0.9232 - accuracy: 0.6716 - val_loss: 1.4426 - val_accuracy: 0.5277\n",
      "Epoch 34/100\n",
      "196/196 [==============================] - 2s 11ms/step - loss: 0.9009 - accuracy: 0.6770 - val_loss: 1.4709 - val_accuracy: 0.5173\n",
      "Epoch 35/100\n",
      "196/196 [==============================] - 2s 12ms/step - loss: 0.8809 - accuracy: 0.6859 - val_loss: 1.4782 - val_accuracy: 0.5252\n",
      "Epoch 36/100\n",
      "196/196 [==============================] - 2s 11ms/step - loss: 0.8601 - accuracy: 0.6938 - val_loss: 1.4977 - val_accuracy: 0.5156\n",
      "Epoch 37/100\n",
      "196/196 [==============================] - 2s 11ms/step - loss: 0.8538 - accuracy: 0.6951 - val_loss: 1.5030 - val_accuracy: 0.5152\n",
      "Epoch 38/100\n",
      "196/196 [==============================] - 2s 11ms/step - loss: 0.8324 - accuracy: 0.7038 - val_loss: 1.5573 - val_accuracy: 0.5190\n",
      "Epoch 39/100\n",
      "196/196 [==============================] - 2s 12ms/step - loss: 0.8142 - accuracy: 0.7099 - val_loss: 1.5228 - val_accuracy: 0.5317\n",
      "Epoch 40/100\n",
      "196/196 [==============================] - 2s 13ms/step - loss: 0.7972 - accuracy: 0.7178 - val_loss: 1.5412 - val_accuracy: 0.5256\n",
      "Epoch 41/100\n",
      "196/196 [==============================] - 3s 13ms/step - loss: 0.7893 - accuracy: 0.7194 - val_loss: 1.5674 - val_accuracy: 0.5258\n",
      "Epoch 42/100\n",
      "196/196 [==============================] - 3s 13ms/step - loss: 0.7693 - accuracy: 0.7264 - val_loss: 1.5670 - val_accuracy: 0.5277\n",
      "Epoch 43/100\n",
      "196/196 [==============================] - 3s 13ms/step - loss: 0.7576 - accuracy: 0.7301 - val_loss: 1.6196 - val_accuracy: 0.5176\n",
      "Epoch 44/100\n",
      "196/196 [==============================] - 3s 13ms/step - loss: 0.7375 - accuracy: 0.7372 - val_loss: 1.6321 - val_accuracy: 0.5173\n",
      "Epoch 45/100\n",
      "196/196 [==============================] - 2s 11ms/step - loss: 0.7242 - accuracy: 0.7429 - val_loss: 1.6290 - val_accuracy: 0.5253\n",
      "Epoch 46/100\n",
      "196/196 [==============================] - 2s 11ms/step - loss: 0.7075 - accuracy: 0.7464 - val_loss: 1.6706 - val_accuracy: 0.5245\n",
      "Epoch 47/100\n",
      "196/196 [==============================] - 2s 12ms/step - loss: 0.7074 - accuracy: 0.7482 - val_loss: 1.6805 - val_accuracy: 0.5213\n",
      "Epoch 48/100\n",
      "196/196 [==============================] - 2s 12ms/step - loss: 0.6856 - accuracy: 0.7575 - val_loss: 1.7206 - val_accuracy: 0.5209\n",
      "Epoch 49/100\n",
      "196/196 [==============================] - 2s 12ms/step - loss: 0.6684 - accuracy: 0.7606 - val_loss: 1.7713 - val_accuracy: 0.5167\n",
      "Epoch 50/100\n",
      "196/196 [==============================] - 2s 12ms/step - loss: 0.6510 - accuracy: 0.7663 - val_loss: 1.7259 - val_accuracy: 0.5215\n",
      "Epoch 51/100\n",
      "196/196 [==============================] - 2s 13ms/step - loss: 0.6494 - accuracy: 0.7671 - val_loss: 1.7928 - val_accuracy: 0.5100\n",
      "Epoch 52/100\n",
      "196/196 [==============================] - 3s 13ms/step - loss: 0.6407 - accuracy: 0.7712 - val_loss: 1.7890 - val_accuracy: 0.5154\n",
      "Epoch 53/100\n",
      "196/196 [==============================] - 3s 13ms/step - loss: 0.6215 - accuracy: 0.7793 - val_loss: 1.7719 - val_accuracy: 0.5207\n",
      "Epoch 54/100\n",
      "196/196 [==============================] - 3s 13ms/step - loss: 0.6101 - accuracy: 0.7845 - val_loss: 1.8291 - val_accuracy: 0.5208\n",
      "Epoch 55/100\n",
      "196/196 [==============================] - 2s 13ms/step - loss: 0.6098 - accuracy: 0.7835 - val_loss: 1.8281 - val_accuracy: 0.5131\n",
      "Epoch 56/100\n",
      "196/196 [==============================] - 2s 12ms/step - loss: 0.5894 - accuracy: 0.7906 - val_loss: 1.8811 - val_accuracy: 0.5083\n",
      "Epoch 57/100\n"
     ]
    },
    {
     "name": "stdout",
     "output_type": "stream",
     "text": [
      "196/196 [==============================] - 2s 11ms/step - loss: 0.5749 - accuracy: 0.7958 - val_loss: 1.8852 - val_accuracy: 0.5120\n",
      "Epoch 58/100\n",
      "196/196 [==============================] - 2s 11ms/step - loss: 0.5695 - accuracy: 0.7979 - val_loss: 1.9740 - val_accuracy: 0.5137\n",
      "Epoch 59/100\n",
      "196/196 [==============================] - 2s 11ms/step - loss: 0.5546 - accuracy: 0.8018 - val_loss: 1.9332 - val_accuracy: 0.5244\n",
      "Epoch 60/100\n",
      "196/196 [==============================] - 2s 11ms/step - loss: 0.5453 - accuracy: 0.8049 - val_loss: 2.0469 - val_accuracy: 0.5023\n",
      "Epoch 61/100\n",
      "196/196 [==============================] - 2s 11ms/step - loss: 0.5202 - accuracy: 0.8143 - val_loss: 2.0493 - val_accuracy: 0.5001\n",
      "Epoch 62/100\n",
      "196/196 [==============================] - 2s 11ms/step - loss: 0.5458 - accuracy: 0.8039 - val_loss: 2.0741 - val_accuracy: 0.5066\n",
      "Epoch 63/100\n",
      "196/196 [==============================] - 2s 11ms/step - loss: 0.5357 - accuracy: 0.8094 - val_loss: 2.0316 - val_accuracy: 0.5148\n",
      "Epoch 64/100\n",
      "196/196 [==============================] - 2s 11ms/step - loss: 0.5067 - accuracy: 0.8192 - val_loss: 2.1021 - val_accuracy: 0.5169\n",
      "Epoch 65/100\n",
      "196/196 [==============================] - 2s 11ms/step - loss: 0.4930 - accuracy: 0.8258 - val_loss: 2.0973 - val_accuracy: 0.5103\n",
      "Epoch 66/100\n",
      "196/196 [==============================] - 2s 11ms/step - loss: 0.4832 - accuracy: 0.8274 - val_loss: 2.1667 - val_accuracy: 0.5061\n",
      "Epoch 67/100\n",
      "196/196 [==============================] - 2s 11ms/step - loss: 0.4929 - accuracy: 0.8243 - val_loss: 2.1461 - val_accuracy: 0.5117\n",
      "Epoch 68/100\n",
      "196/196 [==============================] - 2s 11ms/step - loss: 0.4767 - accuracy: 0.8303 - val_loss: 2.1780 - val_accuracy: 0.5097\n",
      "Epoch 69/100\n",
      "196/196 [==============================] - 2s 11ms/step - loss: 0.4629 - accuracy: 0.8332 - val_loss: 2.2941 - val_accuracy: 0.5075\n",
      "Epoch 70/100\n",
      "196/196 [==============================] - 2s 11ms/step - loss: 0.4515 - accuracy: 0.8360 - val_loss: 2.2543 - val_accuracy: 0.5113\n",
      "Epoch 71/100\n",
      "196/196 [==============================] - 2s 11ms/step - loss: 0.4557 - accuracy: 0.8360 - val_loss: 2.2628 - val_accuracy: 0.5169\n",
      "Epoch 72/100\n",
      "196/196 [==============================] - 2s 11ms/step - loss: 0.4320 - accuracy: 0.8462 - val_loss: 2.2959 - val_accuracy: 0.5116\n",
      "Epoch 73/100\n",
      "196/196 [==============================] - 2s 11ms/step - loss: 0.4411 - accuracy: 0.8418 - val_loss: 2.3224 - val_accuracy: 0.5036\n",
      "Epoch 74/100\n",
      "196/196 [==============================] - 2s 11ms/step - loss: 0.4209 - accuracy: 0.8504 - val_loss: 2.3507 - val_accuracy: 0.5118\n",
      "Epoch 75/100\n",
      "196/196 [==============================] - 2s 11ms/step - loss: 0.4327 - accuracy: 0.8444 - val_loss: 2.3920 - val_accuracy: 0.5052\n",
      "Epoch 76/100\n",
      "196/196 [==============================] - 2s 11ms/step - loss: 0.4127 - accuracy: 0.8521 - val_loss: 2.4072 - val_accuracy: 0.5049\n",
      "Epoch 77/100\n",
      "196/196 [==============================] - 2s 11ms/step - loss: 0.3978 - accuracy: 0.8579 - val_loss: 2.4684 - val_accuracy: 0.4981\n",
      "Epoch 78/100\n",
      "196/196 [==============================] - 2s 11ms/step - loss: 0.3997 - accuracy: 0.8577 - val_loss: 2.5001 - val_accuracy: 0.5048\n",
      "Epoch 79/100\n",
      "196/196 [==============================] - 2s 11ms/step - loss: 0.4078 - accuracy: 0.8532 - val_loss: 2.4854 - val_accuracy: 0.5032\n",
      "Epoch 80/100\n",
      "196/196 [==============================] - 2s 11ms/step - loss: 0.3822 - accuracy: 0.8646 - val_loss: 2.5288 - val_accuracy: 0.5072\n",
      "Epoch 81/100\n",
      "196/196 [==============================] - 2s 11ms/step - loss: 0.3945 - accuracy: 0.8593 - val_loss: 2.5557 - val_accuracy: 0.5067\n",
      "Epoch 82/100\n",
      "196/196 [==============================] - 2s 11ms/step - loss: 0.3610 - accuracy: 0.8709 - val_loss: 2.6237 - val_accuracy: 0.4973\n",
      "Epoch 83/100\n",
      "196/196 [==============================] - 2s 11ms/step - loss: 0.3854 - accuracy: 0.8619 - val_loss: 2.6633 - val_accuracy: 0.4984\n",
      "Epoch 84/100\n",
      "196/196 [==============================] - 2s 11ms/step - loss: 0.3694 - accuracy: 0.8687 - val_loss: 2.6820 - val_accuracy: 0.4954\n",
      "Epoch 85/100\n",
      "196/196 [==============================] - 2s 11ms/step - loss: 0.3536 - accuracy: 0.8735 - val_loss: 2.7654 - val_accuracy: 0.4950\n",
      "Epoch 86/100\n",
      "196/196 [==============================] - 2s 11ms/step - loss: 0.3449 - accuracy: 0.8759 - val_loss: 2.6865 - val_accuracy: 0.5012\n",
      "Epoch 87/100\n",
      "196/196 [==============================] - 2s 11ms/step - loss: 0.3391 - accuracy: 0.8784 - val_loss: 2.7595 - val_accuracy: 0.4986\n",
      "Epoch 88/100\n",
      "196/196 [==============================] - 2s 11ms/step - loss: 0.3689 - accuracy: 0.8679 - val_loss: 2.8134 - val_accuracy: 0.4949\n",
      "Epoch 89/100\n",
      "196/196 [==============================] - 2s 11ms/step - loss: 0.3550 - accuracy: 0.8725 - val_loss: 2.8840 - val_accuracy: 0.5040\n",
      "Epoch 90/100\n",
      "196/196 [==============================] - 2s 11ms/step - loss: 0.3388 - accuracy: 0.8787 - val_loss: 2.7774 - val_accuracy: 0.5002\n",
      "Epoch 91/100\n",
      "196/196 [==============================] - 2s 11ms/step - loss: 0.2989 - accuracy: 0.8945 - val_loss: 3.0036 - val_accuracy: 0.5008\n",
      "Epoch 92/100\n",
      "196/196 [==============================] - 2s 11ms/step - loss: 0.3612 - accuracy: 0.8697 - val_loss: 2.9399 - val_accuracy: 0.4982\n",
      "Epoch 93/100\n",
      "196/196 [==============================] - 2s 11ms/step - loss: 0.3117 - accuracy: 0.8888 - val_loss: 3.0123 - val_accuracy: 0.4973\n",
      "Epoch 94/100\n",
      "196/196 [==============================] - 2s 11ms/step - loss: 0.3094 - accuracy: 0.8887 - val_loss: 2.9970 - val_accuracy: 0.5067\n",
      "Epoch 95/100\n",
      "196/196 [==============================] - 2s 11ms/step - loss: 0.3120 - accuracy: 0.8892 - val_loss: 3.0034 - val_accuracy: 0.5034\n",
      "Epoch 96/100\n",
      "196/196 [==============================] - 2s 11ms/step - loss: 0.2967 - accuracy: 0.8949 - val_loss: 3.0568 - val_accuracy: 0.5021\n",
      "Epoch 97/100\n",
      "196/196 [==============================] - 2s 12ms/step - loss: 0.3062 - accuracy: 0.8902 - val_loss: 3.1645 - val_accuracy: 0.4873\n",
      "Epoch 98/100\n",
      "196/196 [==============================] - 2s 12ms/step - loss: 0.3470 - accuracy: 0.8757 - val_loss: 3.1093 - val_accuracy: 0.4932\n",
      "Epoch 99/100\n",
      "196/196 [==============================] - 2s 12ms/step - loss: 0.2903 - accuracy: 0.8970 - val_loss: 3.1149 - val_accuracy: 0.4989\n",
      "Epoch 100/100\n",
      "196/196 [==============================] - 2s 12ms/step - loss: 0.2623 - accuracy: 0.9057 - val_loss: 3.1529 - val_accuracy: 0.5006\n"
     ]
    },
    {
     "data": {
      "text/plain": [
       "<tensorflow.python.keras.callbacks.History at 0x7fbf456a2850>"
      ]
     },
     "execution_count": 11,
     "metadata": {},
     "output_type": "execute_result"
    }
   ],
   "source": [
    "# 訓練模型並檢視驗證集的結果\n",
    "model.fit(x_train, y_train, \n",
    "          epochs=100, \n",
    "          batch_size=256, \n",
    "          validation_data=(x_test, y_test), \n",
    "          shuffle=True)"
   ]
  },
  {
   "cell_type": "code",
   "execution_count": 14,
   "metadata": {},
   "outputs": [
    {
     "data": {
      "image/png": "[encoded data removed]",
      "text/plain": [
       "<Figure size 432x288 with 1 Axes>"
      ]
     },
     "metadata": {
      "needs_background": "light"
     },
     "output_type": "display_data"
    },
    {
     "data": {
      "image/png": "[encoded data removed]",
      "text/plain": [
       "<Figure size 432x288 with 1 Axes>"
      ]
     },
     "metadata": {
      "needs_background": "light"
     },
     "output_type": "display_data"
    }
   ],
   "source": [
    "# 以視覺畫方式檢視訓練過程\n",
    "import matplotlib.pyplot as plt\n",
    "train_loss = model.history.history[\"loss\"]\n",
    "valid_loss = model.history.history[\"val_loss\"]\n",
    "\n",
    "train_acc = model.history.history[\"accuracy\"]\n",
    "valid_acc = model.history.history[\"val_accuracy\"]\n",
    "\n",
    "plt.plot(range(len(train_loss)), train_loss, label=\"train loss\")\n",
    "plt.plot(range(len(valid_loss)), valid_loss, label=\"valid loss\")\n",
    "plt.legend()\n",
    "plt.title(\"Loss\")\n",
    "plt.show()\n",
    "\n",
    "plt.plot(range(len(train_acc)), train_acc, label=\"train accuracy\")\n",
    "plt.plot(range(len(valid_acc)), valid_acc, label=\"valid accuracy\")\n",
    "plt.legend()\n",
    "plt.title(\"Accuracy\")\n",
    "plt.show()"
   ]
  },
  {
   "cell_type": "markdown",
   "metadata": {},
   "source": [
    "## 作業\n",
    "1. 請將 Epoch 加到 500 個，並觀察 learning curve 的走勢\n",
    "2. 請將 Optimizer 換成 SGD，並觀察 learning curve 的走勢"
   ]
  }
 ],
 "metadata": {
  "kernelspec": {
   "display_name": "Python 3",
   "language": "python",
   "name": "python3"
  },
  "language_info": {
   "codemirror_mode": {
    "name": "ipython",
    "version": 3
   },
   "file_extension": ".py",
   "mimetype": "text/x-python",
   "name": "python",
   "nbconvert_exporter": "python",
   "pygments_lexer": "ipython3",
   "version": "3.7.7"
  }
 },
 "nbformat": 4,
 "nbformat_minor": 2
}
